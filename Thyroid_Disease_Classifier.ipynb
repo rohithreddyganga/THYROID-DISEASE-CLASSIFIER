{
  "cells": [
    {
      "cell_type": "markdown",
      "metadata": {
        "id": "njyf63VKyAy_"
      },
      "source": [
        "# Thyroid Disease Classifier"
      ]
    },
    {
      "cell_type": "code",
      "execution_count": null,
      "metadata": {
        "id": "ddS12EHDyAzB"
      },
      "outputs": [],
      "source": [
        "import pandas as pd\n",
        "import numpy as np\n",
        "\n",
        "import matplotlib.pyplot as plt\n",
        "%matplotlib inline"
      ]
    },
    {
      "cell_type": "markdown",
      "metadata": {
        "id": "ZCPwBe0syAzC"
      },
      "source": [
        "#### Importing the Thyroid Disease dataset\n"
      ]
    },
    {
      "cell_type": "code",
      "execution_count": null,
      "metadata": {
        "id": "xCoIca6vyAzC",
        "outputId": "aebc0695-4b8c-4876-a39a-ff6e4d85147a"
      },
      "outputs": [
        {
          "data": {
            "text/plain": [
              "(7200, 22)"
            ]
          },
          "execution_count": 2,
          "metadata": {},
          "output_type": "execute_result"
        }
      ],
      "source": [
        "# Reading excel file using pandas\n",
        "\n",
        "df = pd.read_excel(\"C:/Users/Rahul/Desktop/Stuff/thyroid-new.xls\")\n",
        "df.shape"
      ]
    },
    {
      "cell_type": "code",
      "execution_count": null,
      "metadata": {
        "id": "tTSwNk5XyAzD",
        "outputId": "c441a6c2-3d36-4bf2-e4d2-f861bf193921"
      },
      "outputs": [
        {
          "data": {
            "text/html": [
              "<div>\n",
              "<style scoped>\n",
              "    .dataframe tbody tr th:only-of-type {\n",
              "        vertical-align: middle;\n",
              "    }\n",
              "\n",
              "    .dataframe tbody tr th {\n",
              "        vertical-align: top;\n",
              "    }\n",
              "\n",
              "    .dataframe thead th {\n",
              "        text-align: right;\n",
              "    }\n",
              "</style>\n",
              "<table border=\"1\" class=\"dataframe\">\n",
              "  <thead>\n",
              "    <tr style=\"text-align: right;\">\n",
              "      <th></th>\n",
              "      <th>Age</th>\n",
              "      <th>Sex</th>\n",
              "      <th>On_thyroxine</th>\n",
              "      <th>Query_on_thyroxine</th>\n",
              "      <th>On_antithyroid_medication</th>\n",
              "      <th>Sick</th>\n",
              "      <th>Pregnant</th>\n",
              "      <th>Thyroid_surgery</th>\n",
              "      <th>I131_treatment</th>\n",
              "      <th>Query_hypothyroid</th>\n",
              "      <th>...</th>\n",
              "      <th>Goitre</th>\n",
              "      <th>Tumor</th>\n",
              "      <th>Hypopituitary</th>\n",
              "      <th>Psych</th>\n",
              "      <th>TSH</th>\n",
              "      <th>T3</th>\n",
              "      <th>TT4</th>\n",
              "      <th>T4U</th>\n",
              "      <th>FTI</th>\n",
              "      <th>Class</th>\n",
              "    </tr>\n",
              "  </thead>\n",
              "  <tbody>\n",
              "    <tr>\n",
              "      <th>0</th>\n",
              "      <td>0.73</td>\n",
              "      <td>0</td>\n",
              "      <td>1</td>\n",
              "      <td>0</td>\n",
              "      <td>0</td>\n",
              "      <td>0</td>\n",
              "      <td>0</td>\n",
              "      <td>0</td>\n",
              "      <td>1</td>\n",
              "      <td>0</td>\n",
              "      <td>...</td>\n",
              "      <td>0</td>\n",
              "      <td>0</td>\n",
              "      <td>0</td>\n",
              "      <td>0</td>\n",
              "      <td>0.00060</td>\n",
              "      <td>0.015</td>\n",
              "      <td>0.120</td>\n",
              "      <td>0.082</td>\n",
              "      <td>0.146</td>\n",
              "      <td>3</td>\n",
              "    </tr>\n",
              "    <tr>\n",
              "      <th>1</th>\n",
              "      <td>0.24</td>\n",
              "      <td>0</td>\n",
              "      <td>0</td>\n",
              "      <td>0</td>\n",
              "      <td>0</td>\n",
              "      <td>0</td>\n",
              "      <td>0</td>\n",
              "      <td>0</td>\n",
              "      <td>0</td>\n",
              "      <td>0</td>\n",
              "      <td>...</td>\n",
              "      <td>0</td>\n",
              "      <td>0</td>\n",
              "      <td>0</td>\n",
              "      <td>0</td>\n",
              "      <td>0.00025</td>\n",
              "      <td>0.030</td>\n",
              "      <td>0.143</td>\n",
              "      <td>0.133</td>\n",
              "      <td>0.108</td>\n",
              "      <td>3</td>\n",
              "    </tr>\n",
              "    <tr>\n",
              "      <th>2</th>\n",
              "      <td>0.47</td>\n",
              "      <td>0</td>\n",
              "      <td>0</td>\n",
              "      <td>0</td>\n",
              "      <td>0</td>\n",
              "      <td>0</td>\n",
              "      <td>0</td>\n",
              "      <td>0</td>\n",
              "      <td>0</td>\n",
              "      <td>0</td>\n",
              "      <td>...</td>\n",
              "      <td>0</td>\n",
              "      <td>0</td>\n",
              "      <td>0</td>\n",
              "      <td>0</td>\n",
              "      <td>0.00190</td>\n",
              "      <td>0.024</td>\n",
              "      <td>0.102</td>\n",
              "      <td>0.131</td>\n",
              "      <td>0.078</td>\n",
              "      <td>3</td>\n",
              "    </tr>\n",
              "    <tr>\n",
              "      <th>3</th>\n",
              "      <td>0.64</td>\n",
              "      <td>1</td>\n",
              "      <td>0</td>\n",
              "      <td>0</td>\n",
              "      <td>0</td>\n",
              "      <td>0</td>\n",
              "      <td>0</td>\n",
              "      <td>0</td>\n",
              "      <td>0</td>\n",
              "      <td>0</td>\n",
              "      <td>...</td>\n",
              "      <td>0</td>\n",
              "      <td>0</td>\n",
              "      <td>0</td>\n",
              "      <td>0</td>\n",
              "      <td>0.00090</td>\n",
              "      <td>0.017</td>\n",
              "      <td>0.077</td>\n",
              "      <td>0.090</td>\n",
              "      <td>0.085</td>\n",
              "      <td>3</td>\n",
              "    </tr>\n",
              "    <tr>\n",
              "      <th>4</th>\n",
              "      <td>0.23</td>\n",
              "      <td>0</td>\n",
              "      <td>0</td>\n",
              "      <td>0</td>\n",
              "      <td>0</td>\n",
              "      <td>0</td>\n",
              "      <td>0</td>\n",
              "      <td>0</td>\n",
              "      <td>0</td>\n",
              "      <td>0</td>\n",
              "      <td>...</td>\n",
              "      <td>0</td>\n",
              "      <td>0</td>\n",
              "      <td>0</td>\n",
              "      <td>0</td>\n",
              "      <td>0.00025</td>\n",
              "      <td>0.026</td>\n",
              "      <td>0.139</td>\n",
              "      <td>0.090</td>\n",
              "      <td>0.153</td>\n",
              "      <td>3</td>\n",
              "    </tr>\n",
              "  </tbody>\n",
              "</table>\n",
              "<p>5 rows × 22 columns</p>\n",
              "</div>"
            ],
            "text/plain": [
              "    Age  Sex  On_thyroxine  Query_on_thyroxine  On_antithyroid_medication  \\\n",
              "0  0.73    0             1                   0                          0   \n",
              "1  0.24    0             0                   0                          0   \n",
              "2  0.47    0             0                   0                          0   \n",
              "3  0.64    1             0                   0                          0   \n",
              "4  0.23    0             0                   0                          0   \n",
              "\n",
              "   Sick  Pregnant  Thyroid_surgery  I131_treatment  Query_hypothyroid  ...  \\\n",
              "0     0         0                0               1                  0  ...   \n",
              "1     0         0                0               0                  0  ...   \n",
              "2     0         0                0               0                  0  ...   \n",
              "3     0         0                0               0                  0  ...   \n",
              "4     0         0                0               0                  0  ...   \n",
              "\n",
              "   Goitre  Tumor  Hypopituitary  Psych      TSH     T3    TT4    T4U    FTI  \\\n",
              "0       0      0              0      0  0.00060  0.015  0.120  0.082  0.146   \n",
              "1       0      0              0      0  0.00025  0.030  0.143  0.133  0.108   \n",
              "2       0      0              0      0  0.00190  0.024  0.102  0.131  0.078   \n",
              "3       0      0              0      0  0.00090  0.017  0.077  0.090  0.085   \n",
              "4       0      0              0      0  0.00025  0.026  0.139  0.090  0.153   \n",
              "\n",
              "   Class  \n",
              "0      3  \n",
              "1      3  \n",
              "2      3  \n",
              "3      3  \n",
              "4      3  \n",
              "\n",
              "[5 rows x 22 columns]"
            ]
          },
          "execution_count": 3,
          "metadata": {},
          "output_type": "execute_result"
        }
      ],
      "source": [
        "# Displaying the first 5 rows of the dataset\n",
        "\n",
        "df.head()"
      ]
    },
    {
      "cell_type": "code",
      "execution_count": null,
      "metadata": {
        "id": "CyjRAsj3yAzD",
        "outputId": "2cf51ba3-481e-4888-dcc8-842a7bc1218e"
      },
      "outputs": [
        {
          "data": {
            "text/plain": [
              "Age                          False\n",
              "Sex                          False\n",
              "On_thyroxine                 False\n",
              "Query_on_thyroxine           False\n",
              "On_antithyroid_medication    False\n",
              "Sick                         False\n",
              "Pregnant                     False\n",
              "Thyroid_surgery              False\n",
              "I131_treatment               False\n",
              "Query_hypothyroid            False\n",
              "Query_hyperthyroid           False\n",
              "Lithium                      False\n",
              "Goitre                       False\n",
              "Tumor                        False\n",
              "Hypopituitary                False\n",
              "Psych                        False\n",
              "TSH                          False\n",
              "T3                           False\n",
              "TT4                          False\n",
              "T4U                          False\n",
              "FTI                          False\n",
              "Class                        False\n",
              "dtype: bool"
            ]
          },
          "execution_count": 4,
          "metadata": {},
          "output_type": "execute_result"
        }
      ],
      "source": [
        "# Checking if there are any null values\n",
        "\n",
        "df.isnull().any()"
      ]
    },
    {
      "cell_type": "code",
      "execution_count": null,
      "metadata": {
        "id": "erAOeAWvyAzD",
        "outputId": "948abea7-dea0-4ed1-ac3d-81d18a0c1256"
      },
      "outputs": [
        {
          "data": {
            "text/html": [
              "<div>\n",
              "<style scoped>\n",
              "    .dataframe tbody tr th:only-of-type {\n",
              "        vertical-align: middle;\n",
              "    }\n",
              "\n",
              "    .dataframe tbody tr th {\n",
              "        vertical-align: top;\n",
              "    }\n",
              "\n",
              "    .dataframe thead th {\n",
              "        text-align: right;\n",
              "    }\n",
              "</style>\n",
              "<table border=\"1\" class=\"dataframe\">\n",
              "  <thead>\n",
              "    <tr style=\"text-align: right;\">\n",
              "      <th></th>\n",
              "      <th>Age</th>\n",
              "      <th>Sex</th>\n",
              "      <th>On_thyroxine</th>\n",
              "      <th>Query_on_thyroxine</th>\n",
              "      <th>On_antithyroid_medication</th>\n",
              "      <th>Sick</th>\n",
              "      <th>Pregnant</th>\n",
              "      <th>Thyroid_surgery</th>\n",
              "      <th>I131_treatment</th>\n",
              "      <th>Query_hypothyroid</th>\n",
              "      <th>...</th>\n",
              "      <th>Goitre</th>\n",
              "      <th>Tumor</th>\n",
              "      <th>Hypopituitary</th>\n",
              "      <th>Psych</th>\n",
              "      <th>TSH</th>\n",
              "      <th>T3</th>\n",
              "      <th>TT4</th>\n",
              "      <th>T4U</th>\n",
              "      <th>FTI</th>\n",
              "      <th>Class</th>\n",
              "    </tr>\n",
              "  </thead>\n",
              "  <tbody>\n",
              "    <tr>\n",
              "      <th>count</th>\n",
              "      <td>7200.000000</td>\n",
              "      <td>7200.000000</td>\n",
              "      <td>7200.000000</td>\n",
              "      <td>7200.000000</td>\n",
              "      <td>7200.000000</td>\n",
              "      <td>7200.000000</td>\n",
              "      <td>7200.000000</td>\n",
              "      <td>7200.000000</td>\n",
              "      <td>7200.000000</td>\n",
              "      <td>7200.000000</td>\n",
              "      <td>...</td>\n",
              "      <td>7200.000000</td>\n",
              "      <td>7200.000000</td>\n",
              "      <td>7200.000000</td>\n",
              "      <td>7200.000000</td>\n",
              "      <td>7200.000000</td>\n",
              "      <td>7200.000000</td>\n",
              "      <td>7200.000000</td>\n",
              "      <td>7200.000000</td>\n",
              "      <td>7200.000000</td>\n",
              "      <td>7200.000000</td>\n",
              "    </tr>\n",
              "    <tr>\n",
              "      <th>mean</th>\n",
              "      <td>0.520518</td>\n",
              "      <td>0.304306</td>\n",
              "      <td>0.130556</td>\n",
              "      <td>0.015417</td>\n",
              "      <td>0.012778</td>\n",
              "      <td>0.038333</td>\n",
              "      <td>0.010833</td>\n",
              "      <td>0.014028</td>\n",
              "      <td>0.016806</td>\n",
              "      <td>0.065556</td>\n",
              "      <td>...</td>\n",
              "      <td>0.008194</td>\n",
              "      <td>0.025556</td>\n",
              "      <td>0.000139</td>\n",
              "      <td>0.048889</td>\n",
              "      <td>0.004861</td>\n",
              "      <td>0.019977</td>\n",
              "      <td>0.109430</td>\n",
              "      <td>0.097838</td>\n",
              "      <td>0.113215</td>\n",
              "      <td>2.902778</td>\n",
              "    </tr>\n",
              "    <tr>\n",
              "      <th>std</th>\n",
              "      <td>0.189269</td>\n",
              "      <td>0.460145</td>\n",
              "      <td>0.336937</td>\n",
              "      <td>0.123212</td>\n",
              "      <td>0.112322</td>\n",
              "      <td>0.192013</td>\n",
              "      <td>0.103525</td>\n",
              "      <td>0.117613</td>\n",
              "      <td>0.128551</td>\n",
              "      <td>0.247521</td>\n",
              "      <td>...</td>\n",
              "      <td>0.090158</td>\n",
              "      <td>0.157816</td>\n",
              "      <td>0.011785</td>\n",
              "      <td>0.215651</td>\n",
              "      <td>0.022979</td>\n",
              "      <td>0.007539</td>\n",
              "      <td>0.035969</td>\n",
              "      <td>0.019085</td>\n",
              "      <td>0.036098</td>\n",
              "      <td>0.365923</td>\n",
              "    </tr>\n",
              "    <tr>\n",
              "      <th>min</th>\n",
              "      <td>0.010000</td>\n",
              "      <td>0.000000</td>\n",
              "      <td>0.000000</td>\n",
              "      <td>0.000000</td>\n",
              "      <td>0.000000</td>\n",
              "      <td>0.000000</td>\n",
              "      <td>0.000000</td>\n",
              "      <td>0.000000</td>\n",
              "      <td>0.000000</td>\n",
              "      <td>0.000000</td>\n",
              "      <td>...</td>\n",
              "      <td>0.000000</td>\n",
              "      <td>0.000000</td>\n",
              "      <td>0.000000</td>\n",
              "      <td>0.000000</td>\n",
              "      <td>0.000000</td>\n",
              "      <td>0.000500</td>\n",
              "      <td>0.002000</td>\n",
              "      <td>0.017000</td>\n",
              "      <td>0.002000</td>\n",
              "      <td>1.000000</td>\n",
              "    </tr>\n",
              "    <tr>\n",
              "      <th>25%</th>\n",
              "      <td>0.370000</td>\n",
              "      <td>0.000000</td>\n",
              "      <td>0.000000</td>\n",
              "      <td>0.000000</td>\n",
              "      <td>0.000000</td>\n",
              "      <td>0.000000</td>\n",
              "      <td>0.000000</td>\n",
              "      <td>0.000000</td>\n",
              "      <td>0.000000</td>\n",
              "      <td>0.000000</td>\n",
              "      <td>...</td>\n",
              "      <td>0.000000</td>\n",
              "      <td>0.000000</td>\n",
              "      <td>0.000000</td>\n",
              "      <td>0.000000</td>\n",
              "      <td>0.000710</td>\n",
              "      <td>0.017000</td>\n",
              "      <td>0.089000</td>\n",
              "      <td>0.087000</td>\n",
              "      <td>0.095000</td>\n",
              "      <td>3.000000</td>\n",
              "    </tr>\n",
              "    <tr>\n",
              "      <th>50%</th>\n",
              "      <td>0.550000</td>\n",
              "      <td>0.000000</td>\n",
              "      <td>0.000000</td>\n",
              "      <td>0.000000</td>\n",
              "      <td>0.000000</td>\n",
              "      <td>0.000000</td>\n",
              "      <td>0.000000</td>\n",
              "      <td>0.000000</td>\n",
              "      <td>0.000000</td>\n",
              "      <td>0.000000</td>\n",
              "      <td>...</td>\n",
              "      <td>0.000000</td>\n",
              "      <td>0.000000</td>\n",
              "      <td>0.000000</td>\n",
              "      <td>0.000000</td>\n",
              "      <td>0.001700</td>\n",
              "      <td>0.020100</td>\n",
              "      <td>0.107000</td>\n",
              "      <td>0.097000</td>\n",
              "      <td>0.111000</td>\n",
              "      <td>3.000000</td>\n",
              "    </tr>\n",
              "    <tr>\n",
              "      <th>75%</th>\n",
              "      <td>0.670000</td>\n",
              "      <td>1.000000</td>\n",
              "      <td>0.000000</td>\n",
              "      <td>0.000000</td>\n",
              "      <td>0.000000</td>\n",
              "      <td>0.000000</td>\n",
              "      <td>0.000000</td>\n",
              "      <td>0.000000</td>\n",
              "      <td>0.000000</td>\n",
              "      <td>0.000000</td>\n",
              "      <td>...</td>\n",
              "      <td>0.000000</td>\n",
              "      <td>0.000000</td>\n",
              "      <td>0.000000</td>\n",
              "      <td>0.000000</td>\n",
              "      <td>0.002700</td>\n",
              "      <td>0.022000</td>\n",
              "      <td>0.125000</td>\n",
              "      <td>0.104000</td>\n",
              "      <td>0.127000</td>\n",
              "      <td>3.000000</td>\n",
              "    </tr>\n",
              "    <tr>\n",
              "      <th>max</th>\n",
              "      <td>0.970000</td>\n",
              "      <td>1.000000</td>\n",
              "      <td>1.000000</td>\n",
              "      <td>1.000000</td>\n",
              "      <td>1.000000</td>\n",
              "      <td>1.000000</td>\n",
              "      <td>1.000000</td>\n",
              "      <td>1.000000</td>\n",
              "      <td>1.000000</td>\n",
              "      <td>1.000000</td>\n",
              "      <td>...</td>\n",
              "      <td>1.000000</td>\n",
              "      <td>1.000000</td>\n",
              "      <td>1.000000</td>\n",
              "      <td>1.000000</td>\n",
              "      <td>0.530000</td>\n",
              "      <td>0.180000</td>\n",
              "      <td>0.600000</td>\n",
              "      <td>0.233000</td>\n",
              "      <td>0.642000</td>\n",
              "      <td>3.000000</td>\n",
              "    </tr>\n",
              "  </tbody>\n",
              "</table>\n",
              "<p>8 rows × 22 columns</p>\n",
              "</div>"
            ],
            "text/plain": [
              "               Age          Sex  On_thyroxine  Query_on_thyroxine  \\\n",
              "count  7200.000000  7200.000000   7200.000000         7200.000000   \n",
              "mean      0.520518     0.304306      0.130556            0.015417   \n",
              "std       0.189269     0.460145      0.336937            0.123212   \n",
              "min       0.010000     0.000000      0.000000            0.000000   \n",
              "25%       0.370000     0.000000      0.000000            0.000000   \n",
              "50%       0.550000     0.000000      0.000000            0.000000   \n",
              "75%       0.670000     1.000000      0.000000            0.000000   \n",
              "max       0.970000     1.000000      1.000000            1.000000   \n",
              "\n",
              "       On_antithyroid_medication         Sick     Pregnant  Thyroid_surgery  \\\n",
              "count                7200.000000  7200.000000  7200.000000      7200.000000   \n",
              "mean                    0.012778     0.038333     0.010833         0.014028   \n",
              "std                     0.112322     0.192013     0.103525         0.117613   \n",
              "min                     0.000000     0.000000     0.000000         0.000000   \n",
              "25%                     0.000000     0.000000     0.000000         0.000000   \n",
              "50%                     0.000000     0.000000     0.000000         0.000000   \n",
              "75%                     0.000000     0.000000     0.000000         0.000000   \n",
              "max                     1.000000     1.000000     1.000000         1.000000   \n",
              "\n",
              "       I131_treatment  Query_hypothyroid  ...       Goitre        Tumor  \\\n",
              "count     7200.000000        7200.000000  ...  7200.000000  7200.000000   \n",
              "mean         0.016806           0.065556  ...     0.008194     0.025556   \n",
              "std          0.128551           0.247521  ...     0.090158     0.157816   \n",
              "min          0.000000           0.000000  ...     0.000000     0.000000   \n",
              "25%          0.000000           0.000000  ...     0.000000     0.000000   \n",
              "50%          0.000000           0.000000  ...     0.000000     0.000000   \n",
              "75%          0.000000           0.000000  ...     0.000000     0.000000   \n",
              "max          1.000000           1.000000  ...     1.000000     1.000000   \n",
              "\n",
              "       Hypopituitary        Psych          TSH           T3          TT4  \\\n",
              "count    7200.000000  7200.000000  7200.000000  7200.000000  7200.000000   \n",
              "mean        0.000139     0.048889     0.004861     0.019977     0.109430   \n",
              "std         0.011785     0.215651     0.022979     0.007539     0.035969   \n",
              "min         0.000000     0.000000     0.000000     0.000500     0.002000   \n",
              "25%         0.000000     0.000000     0.000710     0.017000     0.089000   \n",
              "50%         0.000000     0.000000     0.001700     0.020100     0.107000   \n",
              "75%         0.000000     0.000000     0.002700     0.022000     0.125000   \n",
              "max         1.000000     1.000000     0.530000     0.180000     0.600000   \n",
              "\n",
              "               T4U          FTI        Class  \n",
              "count  7200.000000  7200.000000  7200.000000  \n",
              "mean      0.097838     0.113215     2.902778  \n",
              "std       0.019085     0.036098     0.365923  \n",
              "min       0.017000     0.002000     1.000000  \n",
              "25%       0.087000     0.095000     3.000000  \n",
              "50%       0.097000     0.111000     3.000000  \n",
              "75%       0.104000     0.127000     3.000000  \n",
              "max       0.233000     0.642000     3.000000  \n",
              "\n",
              "[8 rows x 22 columns]"
            ]
          },
          "execution_count": 5,
          "metadata": {},
          "output_type": "execute_result"
        }
      ],
      "source": [
        "df.describe(include=\"all\")"
      ]
    },
    {
      "cell_type": "code",
      "execution_count": null,
      "metadata": {
        "id": "2LdsO7aIyAzE",
        "outputId": "f98f13b3-a221-4d6e-c2a7-003a40ff6309"
      },
      "outputs": [
        {
          "data": {
            "text/html": [
              "<div>\n",
              "<style scoped>\n",
              "    .dataframe tbody tr th:only-of-type {\n",
              "        vertical-align: middle;\n",
              "    }\n",
              "\n",
              "    .dataframe tbody tr th {\n",
              "        vertical-align: top;\n",
              "    }\n",
              "\n",
              "    .dataframe thead th {\n",
              "        text-align: right;\n",
              "    }\n",
              "</style>\n",
              "<table border=\"1\" class=\"dataframe\">\n",
              "  <thead>\n",
              "    <tr style=\"text-align: right;\">\n",
              "      <th></th>\n",
              "      <th>data_type</th>\n",
              "      <th>unique_count</th>\n",
              "    </tr>\n",
              "  </thead>\n",
              "  <tbody>\n",
              "    <tr>\n",
              "      <th>Age</th>\n",
              "      <td>float64</td>\n",
              "      <td>98</td>\n",
              "    </tr>\n",
              "    <tr>\n",
              "      <th>Sex</th>\n",
              "      <td>int64</td>\n",
              "      <td>2</td>\n",
              "    </tr>\n",
              "    <tr>\n",
              "      <th>On_thyroxine</th>\n",
              "      <td>int64</td>\n",
              "      <td>2</td>\n",
              "    </tr>\n",
              "    <tr>\n",
              "      <th>Query_on_thyroxine</th>\n",
              "      <td>int64</td>\n",
              "      <td>2</td>\n",
              "    </tr>\n",
              "    <tr>\n",
              "      <th>On_antithyroid_medication</th>\n",
              "      <td>int64</td>\n",
              "      <td>2</td>\n",
              "    </tr>\n",
              "    <tr>\n",
              "      <th>Sick</th>\n",
              "      <td>int64</td>\n",
              "      <td>2</td>\n",
              "    </tr>\n",
              "    <tr>\n",
              "      <th>Pregnant</th>\n",
              "      <td>int64</td>\n",
              "      <td>2</td>\n",
              "    </tr>\n",
              "    <tr>\n",
              "      <th>Thyroid_surgery</th>\n",
              "      <td>int64</td>\n",
              "      <td>2</td>\n",
              "    </tr>\n",
              "    <tr>\n",
              "      <th>I131_treatment</th>\n",
              "      <td>int64</td>\n",
              "      <td>2</td>\n",
              "    </tr>\n",
              "    <tr>\n",
              "      <th>Query_hypothyroid</th>\n",
              "      <td>int64</td>\n",
              "      <td>2</td>\n",
              "    </tr>\n",
              "    <tr>\n",
              "      <th>Query_hyperthyroid</th>\n",
              "      <td>int64</td>\n",
              "      <td>2</td>\n",
              "    </tr>\n",
              "    <tr>\n",
              "      <th>Lithium</th>\n",
              "      <td>int64</td>\n",
              "      <td>2</td>\n",
              "    </tr>\n",
              "    <tr>\n",
              "      <th>Goitre</th>\n",
              "      <td>int64</td>\n",
              "      <td>2</td>\n",
              "    </tr>\n",
              "    <tr>\n",
              "      <th>Tumor</th>\n",
              "      <td>int64</td>\n",
              "      <td>2</td>\n",
              "    </tr>\n",
              "    <tr>\n",
              "      <th>Hypopituitary</th>\n",
              "      <td>int64</td>\n",
              "      <td>2</td>\n",
              "    </tr>\n",
              "    <tr>\n",
              "      <th>Psych</th>\n",
              "      <td>int64</td>\n",
              "      <td>2</td>\n",
              "    </tr>\n",
              "    <tr>\n",
              "      <th>TSH</th>\n",
              "      <td>float64</td>\n",
              "      <td>326</td>\n",
              "    </tr>\n",
              "    <tr>\n",
              "      <th>T3</th>\n",
              "      <td>float64</td>\n",
              "      <td>85</td>\n",
              "    </tr>\n",
              "    <tr>\n",
              "      <th>TT4</th>\n",
              "      <td>float64</td>\n",
              "      <td>272</td>\n",
              "    </tr>\n",
              "    <tr>\n",
              "      <th>T4U</th>\n",
              "      <td>float64</td>\n",
              "      <td>161</td>\n",
              "    </tr>\n",
              "    <tr>\n",
              "      <th>FTI</th>\n",
              "      <td>float64</td>\n",
              "      <td>466</td>\n",
              "    </tr>\n",
              "    <tr>\n",
              "      <th>Class</th>\n",
              "      <td>int64</td>\n",
              "      <td>3</td>\n",
              "    </tr>\n",
              "  </tbody>\n",
              "</table>\n",
              "</div>"
            ],
            "text/plain": [
              "                          data_type  unique_count\n",
              "Age                         float64            98\n",
              "Sex                           int64             2\n",
              "On_thyroxine                  int64             2\n",
              "Query_on_thyroxine            int64             2\n",
              "On_antithyroid_medication     int64             2\n",
              "Sick                          int64             2\n",
              "Pregnant                      int64             2\n",
              "Thyroid_surgery               int64             2\n",
              "I131_treatment                int64             2\n",
              "Query_hypothyroid             int64             2\n",
              "Query_hyperthyroid            int64             2\n",
              "Lithium                       int64             2\n",
              "Goitre                        int64             2\n",
              "Tumor                         int64             2\n",
              "Hypopituitary                 int64             2\n",
              "Psych                         int64             2\n",
              "TSH                         float64           326\n",
              "T3                          float64            85\n",
              "TT4                         float64           272\n",
              "T4U                         float64           161\n",
              "FTI                         float64           466\n",
              "Class                         int64             3"
            ]
          },
          "execution_count": 6,
          "metadata": {},
          "output_type": "execute_result"
        }
      ],
      "source": [
        "# Checking the types and no.of unique values in the table\n",
        "\n",
        "temp = pd.DataFrame(index=df.columns)\n",
        "temp['data_type'] = df.dtypes\n",
        "temp['unique_count'] = df.nunique()\n",
        "temp"
      ]
    },
    {
      "cell_type": "code",
      "execution_count": null,
      "metadata": {
        "id": "56xWPdlJyAzE",
        "outputId": "c3d86f7d-48a9-467d-bea8-0a6312a719d1"
      },
      "outputs": [
        {
          "data": {
            "text/plain": [
              "3    6666\n",
              "2     368\n",
              "1     166\n",
              "Name: Class, dtype: int64"
            ]
          },
          "execution_count": 7,
          "metadata": {},
          "output_type": "execute_result"
        }
      ],
      "source": [
        "# Checking the count for labels\n",
        "\n",
        "df['Class'].value_counts()"
      ]
    },
    {
      "cell_type": "code",
      "execution_count": null,
      "metadata": {
        "id": "1QmDCoo7yAzE",
        "outputId": "20c1c6bf-b40a-4ada-d3e4-31860c6b258a"
      },
      "outputs": [
        {
          "data": {
            "text/plain": [
              "Text(0, 0.5, 'Count')"
            ]
          },
          "execution_count": 8,
          "metadata": {},
          "output_type": "execute_result"
        },
        {
          "data": {
            "image/png": "[encoded data removed]",
            "text/plain": [
              "<Figure size 432x288 with 1 Axes>"
            ]
          },
          "metadata": {
            "needs_background": "light"
          },
          "output_type": "display_data"
        }
      ],
      "source": [
        "# Visualizing the count for disease labels\n",
        "\n",
        "df['Class'].value_counts().plot.bar(color = 'orange')\n",
        "plt.title(\"Count of Thyroid diseases\")\n",
        "plt.xlabel(\"Condition\")\n",
        "plt.ylabel(\"Count\")"
      ]
    },
    {
      "cell_type": "code",
      "execution_count": null,
      "metadata": {
        "id": "0Sa0RidvyAzF",
        "outputId": "9526bebb-4573-4206-c9c7-6d1c6b007c37"
      },
      "outputs": [
        {
          "data": {
            "text/plain": [
              "((7200, 21), (7200,))"
            ]
          },
          "execution_count": 9,
          "metadata": {},
          "output_type": "execute_result"
        }
      ],
      "source": [
        "# Seperating independent and dependent variables\n",
        "\n",
        "x = df.drop(['Class'], axis=1)\n",
        "y = df['Class']\n",
        "x.shape, y.shape"
      ]
    },
    {
      "cell_type": "code",
      "execution_count": null,
      "metadata": {
        "id": "3O4-IU4MyAzF",
        "outputId": "975ffff0-878c-48f5-a9e6-ba2d5c48897e"
      },
      "outputs": [
        {
          "data": {
            "text/html": [
              "<div>\n",
              "<style scoped>\n",
              "    .dataframe tbody tr th:only-of-type {\n",
              "        vertical-align: middle;\n",
              "    }\n",
              "\n",
              "    .dataframe tbody tr th {\n",
              "        vertical-align: top;\n",
              "    }\n",
              "\n",
              "    .dataframe thead th {\n",
              "        text-align: right;\n",
              "    }\n",
              "</style>\n",
              "<table border=\"1\" class=\"dataframe\">\n",
              "  <thead>\n",
              "    <tr style=\"text-align: right;\">\n",
              "      <th></th>\n",
              "      <th>Age</th>\n",
              "      <th>Sex</th>\n",
              "      <th>On_thyroxine</th>\n",
              "      <th>Query_on_thyroxine</th>\n",
              "      <th>On_antithyroid_medication</th>\n",
              "      <th>Sick</th>\n",
              "      <th>Pregnant</th>\n",
              "      <th>Thyroid_surgery</th>\n",
              "      <th>I131_treatment</th>\n",
              "      <th>Query_hypothyroid</th>\n",
              "      <th>...</th>\n",
              "      <th>Lithium</th>\n",
              "      <th>Goitre</th>\n",
              "      <th>Tumor</th>\n",
              "      <th>Hypopituitary</th>\n",
              "      <th>Psych</th>\n",
              "      <th>TSH</th>\n",
              "      <th>T3</th>\n",
              "      <th>TT4</th>\n",
              "      <th>T4U</th>\n",
              "      <th>FTI</th>\n",
              "    </tr>\n",
              "  </thead>\n",
              "  <tbody>\n",
              "    <tr>\n",
              "      <th>0</th>\n",
              "      <td>0.73</td>\n",
              "      <td>0</td>\n",
              "      <td>1</td>\n",
              "      <td>0</td>\n",
              "      <td>0</td>\n",
              "      <td>0</td>\n",
              "      <td>0</td>\n",
              "      <td>0</td>\n",
              "      <td>1</td>\n",
              "      <td>0</td>\n",
              "      <td>...</td>\n",
              "      <td>0</td>\n",
              "      <td>0</td>\n",
              "      <td>0</td>\n",
              "      <td>0</td>\n",
              "      <td>0</td>\n",
              "      <td>0.00060</td>\n",
              "      <td>0.015</td>\n",
              "      <td>0.120</td>\n",
              "      <td>0.082</td>\n",
              "      <td>0.146</td>\n",
              "    </tr>\n",
              "    <tr>\n",
              "      <th>1</th>\n",
              "      <td>0.24</td>\n",
              "      <td>0</td>\n",
              "      <td>0</td>\n",
              "      <td>0</td>\n",
              "      <td>0</td>\n",
              "      <td>0</td>\n",
              "      <td>0</td>\n",
              "      <td>0</td>\n",
              "      <td>0</td>\n",
              "      <td>0</td>\n",
              "      <td>...</td>\n",
              "      <td>0</td>\n",
              "      <td>0</td>\n",
              "      <td>0</td>\n",
              "      <td>0</td>\n",
              "      <td>0</td>\n",
              "      <td>0.00025</td>\n",
              "      <td>0.030</td>\n",
              "      <td>0.143</td>\n",
              "      <td>0.133</td>\n",
              "      <td>0.108</td>\n",
              "    </tr>\n",
              "    <tr>\n",
              "      <th>2</th>\n",
              "      <td>0.47</td>\n",
              "      <td>0</td>\n",
              "      <td>0</td>\n",
              "      <td>0</td>\n",
              "      <td>0</td>\n",
              "      <td>0</td>\n",
              "      <td>0</td>\n",
              "      <td>0</td>\n",
              "      <td>0</td>\n",
              "      <td>0</td>\n",
              "      <td>...</td>\n",
              "      <td>0</td>\n",
              "      <td>0</td>\n",
              "      <td>0</td>\n",
              "      <td>0</td>\n",
              "      <td>0</td>\n",
              "      <td>0.00190</td>\n",
              "      <td>0.024</td>\n",
              "      <td>0.102</td>\n",
              "      <td>0.131</td>\n",
              "      <td>0.078</td>\n",
              "    </tr>\n",
              "    <tr>\n",
              "      <th>3</th>\n",
              "      <td>0.64</td>\n",
              "      <td>1</td>\n",
              "      <td>0</td>\n",
              "      <td>0</td>\n",
              "      <td>0</td>\n",
              "      <td>0</td>\n",
              "      <td>0</td>\n",
              "      <td>0</td>\n",
              "      <td>0</td>\n",
              "      <td>0</td>\n",
              "      <td>...</td>\n",
              "      <td>0</td>\n",
              "      <td>0</td>\n",
              "      <td>0</td>\n",
              "      <td>0</td>\n",
              "      <td>0</td>\n",
              "      <td>0.00090</td>\n",
              "      <td>0.017</td>\n",
              "      <td>0.077</td>\n",
              "      <td>0.090</td>\n",
              "      <td>0.085</td>\n",
              "    </tr>\n",
              "    <tr>\n",
              "      <th>4</th>\n",
              "      <td>0.23</td>\n",
              "      <td>0</td>\n",
              "      <td>0</td>\n",
              "      <td>0</td>\n",
              "      <td>0</td>\n",
              "      <td>0</td>\n",
              "      <td>0</td>\n",
              "      <td>0</td>\n",
              "      <td>0</td>\n",
              "      <td>0</td>\n",
              "      <td>...</td>\n",
              "      <td>0</td>\n",
              "      <td>0</td>\n",
              "      <td>0</td>\n",
              "      <td>0</td>\n",
              "      <td>0</td>\n",
              "      <td>0.00025</td>\n",
              "      <td>0.026</td>\n",
              "      <td>0.139</td>\n",
              "      <td>0.090</td>\n",
              "      <td>0.153</td>\n",
              "    </tr>\n",
              "  </tbody>\n",
              "</table>\n",
              "<p>5 rows × 21 columns</p>\n",
              "</div>"
            ],
            "text/plain": [
              "    Age  Sex  On_thyroxine  Query_on_thyroxine  On_antithyroid_medication  \\\n",
              "0  0.73    0             1                   0                          0   \n",
              "1  0.24    0             0                   0                          0   \n",
              "2  0.47    0             0                   0                          0   \n",
              "3  0.64    1             0                   0                          0   \n",
              "4  0.23    0             0                   0                          0   \n",
              "\n",
              "   Sick  Pregnant  Thyroid_surgery  I131_treatment  Query_hypothyroid  ...  \\\n",
              "0     0         0                0               1                  0  ...   \n",
              "1     0         0                0               0                  0  ...   \n",
              "2     0         0                0               0                  0  ...   \n",
              "3     0         0                0               0                  0  ...   \n",
              "4     0         0                0               0                  0  ...   \n",
              "\n",
              "   Lithium  Goitre  Tumor  Hypopituitary  Psych      TSH     T3    TT4    T4U  \\\n",
              "0        0       0      0              0      0  0.00060  0.015  0.120  0.082   \n",
              "1        0       0      0              0      0  0.00025  0.030  0.143  0.133   \n",
              "2        0       0      0              0      0  0.00190  0.024  0.102  0.131   \n",
              "3        0       0      0              0      0  0.00090  0.017  0.077  0.090   \n",
              "4        0       0      0              0      0  0.00025  0.026  0.139  0.090   \n",
              "\n",
              "     FTI  \n",
              "0  0.146  \n",
              "1  0.108  \n",
              "2  0.078  \n",
              "3  0.085  \n",
              "4  0.153  \n",
              "\n",
              "[5 rows x 21 columns]"
            ]
          },
          "execution_count": 10,
          "metadata": {},
          "output_type": "execute_result"
        }
      ],
      "source": [
        "x.head()"
      ]
    },
    {
      "cell_type": "code",
      "execution_count": null,
      "metadata": {
        "id": "CGao1MffyAzF",
        "outputId": "86e6c341-c055-4121-fbd5-39e9d4534c01"
      },
      "outputs": [
        {
          "data": {
            "text/plain": [
              "0    3\n",
              "1    3\n",
              "2    3\n",
              "3    3\n",
              "4    3\n",
              "Name: Class, dtype: int64"
            ]
          },
          "execution_count": 11,
          "metadata": {},
          "output_type": "execute_result"
        }
      ],
      "source": [
        "y.head()"
      ]
    },
    {
      "cell_type": "code",
      "execution_count": null,
      "metadata": {
        "id": "bk4kBxwDyAzF"
      },
      "outputs": [],
      "source": [
        "# Splitting the dataset into Training and Test sets\n",
        "\n",
        "from sklearn.model_selection import train_test_split\n",
        "train_x, test_x, train_y, test_y = train_test_split(x, y, test_size = 0.30, random_state = 0)"
      ]
    },
    {
      "cell_type": "markdown",
      "metadata": {
        "id": "eOWrs0AzyAzG"
      },
      "source": [
        "### Logistic Regression\n"
      ]
    },
    {
      "cell_type": "code",
      "execution_count": null,
      "metadata": {
        "id": "URvfJ1WEyAzG",
        "outputId": "8184af9d-af3b-4d22-9751-7845d694baba"
      },
      "outputs": [
        {
          "data": {
            "text/plain": [
              "LogisticRegression(C=1.0, class_weight=None, dual=False, fit_intercept=True,\n",
              "                   intercept_scaling=1, l1_ratio=None, max_iter=100,\n",
              "                   multi_class='auto', n_jobs=None, penalty='l2',\n",
              "                   random_state=None, solver='lbfgs', tol=0.0001, verbose=0,\n",
              "                   warm_start=False)"
            ]
          },
          "execution_count": 13,
          "metadata": {},
          "output_type": "execute_result"
        }
      ],
      "source": [
        "from sklearn.linear_model import LogisticRegression\n",
        "\n",
        "logisticRegr = LogisticRegression(solver='lbfgs', multi_class='auto')\n",
        "logisticRegr.fit(train_x, train_y)"
      ]
    },
    {
      "cell_type": "code",
      "execution_count": null,
      "metadata": {
        "id": "Per92cnIyAzG",
        "outputId": "abf5f9e3-d964-4a4a-8d1f-eced9ebfbeb7"
      },
      "outputs": [
        {
          "name": "stdout",
          "output_type": "stream",
          "text": [
            "Accuracy:  91.99074074074073\n"
          ]
        }
      ],
      "source": [
        "# Using score method to get accuracy of model\n",
        "score = logisticRegr.score(test_x, test_y)\n",
        "print(\"Accuracy: \", score*100)"
      ]
    },
    {
      "cell_type": "code",
      "execution_count": null,
      "metadata": {
        "id": "OwIbKaOSyAzG",
        "outputId": "673cd4b9-379b-4609-c967-e0727e6d30dc"
      },
      "outputs": [
        {
          "data": {
            "text/plain": [
              "Text(0.5, 1, 'Accuracy Score: 0.9199074074074074')"
            ]
          },
          "execution_count": 15,
          "metadata": {},
          "output_type": "execute_result"
        },
        {
          "data": {
            "image/png": "[encoded data removed]",
            "text/plain": [
              "<Figure size 432x288 with 2 Axes>"
            ]
          },
          "metadata": {
            "needs_background": "light"
          },
          "output_type": "display_data"
        }
      ],
      "source": [
        "# Plotting the confusion matrix\n",
        "\n",
        "import matplotlib.pyplot as plt\n",
        "import seaborn as sns\n",
        "from sklearn import metrics\n",
        "\n",
        "# Using predicted y-label\n",
        "pred_y = logisticRegr.predict(test_x)\n",
        "\n",
        "cm = metrics.confusion_matrix(test_y, pred_y)\n",
        "plt.figure()\n",
        "sns.heatmap(cm, annot=True, fmt=\".2f\", linewidths=.5, square = True, cmap = 'Blues_r');\n",
        "plt.ylabel('Actual label');\n",
        "plt.xlabel('Predicted label');\n",
        "all_sample_title = 'Accuracy Score: {0}'.format(score)\n",
        "plt.title(all_sample_title, size = 10)"
      ]
    },
    {
      "cell_type": "markdown",
      "metadata": {
        "id": "QhiJ__9FyAzG"
      },
      "source": [
        "### Support Vector Machines"
      ]
    },
    {
      "cell_type": "code",
      "execution_count": null,
      "metadata": {
        "id": "WLz2piIGyAzG",
        "outputId": "f82f378c-d063-4586-b254-caa884890c92"
      },
      "outputs": [
        {
          "data": {
            "text/plain": [
              "SVC(C=1, cache_size=200, class_weight=None, coef0=0.0,\n",
              "    decision_function_shape='ovr', degree=3, gamma='auto', kernel='linear',\n",
              "    max_iter=-1, probability=False, random_state=10, shrinking=True, tol=0.001,\n",
              "    verbose=False)"
            ]
          },
          "execution_count": 16,
          "metadata": {},
          "output_type": "execute_result"
        }
      ],
      "source": [
        "from sklearn.svm import SVC\n",
        "\n",
        "svm = SVC(kernel = 'linear', C = 1, gamma='auto', random_state=10)\n",
        "svm.fit(train_x, train_y)"
      ]
    },
    {
      "cell_type": "code",
      "execution_count": null,
      "metadata": {
        "id": "abpD1vwRyAzG",
        "outputId": "1d3f034b-c02f-4ab4-854f-a440e97793f4"
      },
      "outputs": [
        {
          "name": "stdout",
          "output_type": "stream",
          "text": [
            "Accuracy:  92.12962962962963\n"
          ]
        }
      ],
      "source": [
        "# Using score method to get accuracy of model\n",
        "score = svm.score(test_x, test_y)\n",
        "print(\"Accuracy: \", score*100)"
      ]
    },
    {
      "cell_type": "code",
      "execution_count": null,
      "metadata": {
        "id": "VbvQRS-ByAzG",
        "outputId": "b7c15307-ee1c-4bba-cf67-89ea0702fde0"
      },
      "outputs": [
        {
          "data": {
            "text/plain": [
              "Text(0.5, 1, 'Accuracy Score: 0.9212962962962963')"
            ]
          },
          "execution_count": 18,
          "metadata": {},
          "output_type": "execute_result"
        },
        {
          "data": {
            "image/png": "[encoded data removed]",
            "text/plain": [
              "<Figure size 432x288 with 2 Axes>"
            ]
          },
          "metadata": {
            "needs_background": "light"
          },
          "output_type": "display_data"
        }
      ],
      "source": [
        "# Plotting the confusion matrix\n",
        "\n",
        "# Using predicted y-label\n",
        "pred_y = svm.predict(test_x)\n",
        "\n",
        "cm = metrics.confusion_matrix(test_y, pred_y)\n",
        "plt.figure()\n",
        "sns.heatmap(cm, annot=True, fmt=\".2f\", linewidths=.5, square = True, cmap = 'Pastel1');\n",
        "plt.ylabel('Actual label');\n",
        "plt.xlabel('Predicted label');\n",
        "all_sample_title = 'Accuracy Score: {0}'.format(score)\n",
        "plt.title(all_sample_title, size = 10)"
      ]
    },
    {
      "cell_type": "markdown",
      "metadata": {
        "id": "9D9J8vl9yAzG"
      },
      "source": [
        "### KNN Classifier"
      ]
    },
    {
      "cell_type": "code",
      "execution_count": null,
      "metadata": {
        "id": "pvnVobl-yAzG",
        "outputId": "6f9e1dfa-bc05-4564-858d-e04b3363b748"
      },
      "outputs": [
        {
          "data": {
            "text/plain": [
              "KNeighborsClassifier(algorithm='auto', leaf_size=30, metric='minkowski',\n",
              "                     metric_params=None, n_jobs=None, n_neighbors=3, p=2,\n",
              "                     weights='uniform')"
            ]
          },
          "execution_count": 19,
          "metadata": {},
          "output_type": "execute_result"
        }
      ],
      "source": [
        "from sklearn.neighbors import KNeighborsClassifier\n",
        "knn = KNeighborsClassifier(n_neighbors = 3)\n",
        "knn.fit(train_x, train_y)"
      ]
    },
    {
      "cell_type": "code",
      "execution_count": null,
      "metadata": {
        "id": "iKQtYgMWyAzG",
        "outputId": "bbe52c2c-93d0-4b82-deea-defeb797f807"
      },
      "outputs": [
        {
          "name": "stdout",
          "output_type": "stream",
          "text": [
            "Accuracy:  92.96296296296296\n"
          ]
        }
      ],
      "source": [
        "# Using score method to get accuracy of model\n",
        "score = knn.score(test_x, test_y)\n",
        "print(\"Accuracy: \", score*100)"
      ]
    },
    {
      "cell_type": "code",
      "execution_count": null,
      "metadata": {
        "id": "M8ySeiYJyAzG",
        "outputId": "b2aeab31-d13a-4789-815e-627ac27a37a7"
      },
      "outputs": [
        {
          "data": {
            "text/plain": [
              "Text(0.5, 1, 'Accuracy Score: 0.9296296296296296')"
            ]
          },
          "execution_count": 21,
          "metadata": {},
          "output_type": "execute_result"
        },
        {
          "data": {
            "image/png": "[encoded data removed]",
            "text/plain": [
              "<Figure size 432x288 with 2 Axes>"
            ]
          },
          "metadata": {
            "needs_background": "light"
          },
          "output_type": "display_data"
        }
      ],
      "source": [
        "# Plotting the confusion matrix\n",
        "\n",
        "# Using predicted y-label\n",
        "pred_y = knn.predict(test_x)\n",
        "\n",
        "cm = metrics.confusion_matrix(test_y, pred_y)\n",
        "plt.figure()\n",
        "sns.heatmap(cm, annot=True, fmt=\".2f\", linewidths=.5, square = True, cmap = 'Pastel2');\n",
        "plt.ylabel('Actual label');\n",
        "plt.xlabel('Predicted label');\n",
        "all_sample_title = 'Accuracy Score: {0}'.format(score)\n",
        "plt.title(all_sample_title, size = 10)"
      ]
    },
    {
      "cell_type": "markdown",
      "metadata": {
        "id": "_qAPo6LryAzH"
      },
      "source": [
        "### Naive Bayes Classifier"
      ]
    },
    {
      "cell_type": "code",
      "execution_count": null,
      "metadata": {
        "id": "NDzE7Tr4yAzH",
        "outputId": "1e05021f-5d5d-46f4-af53-eee491f688a8"
      },
      "outputs": [
        {
          "data": {
            "text/plain": [
              "MultinomialNB(alpha=1.0, class_prior=None, fit_prior=True)"
            ]
          },
          "execution_count": 22,
          "metadata": {},
          "output_type": "execute_result"
        }
      ],
      "source": [
        "from sklearn.naive_bayes import MultinomialNB\n",
        "mnb = MultinomialNB()\n",
        "mnb.fit(train_x, train_y)"
      ]
    },
    {
      "cell_type": "code",
      "execution_count": null,
      "metadata": {
        "id": "CT2rUtNlyAzH",
        "outputId": "79af5d55-6236-49a1-9f72-2ff68419e101"
      },
      "outputs": [
        {
          "name": "stdout",
          "output_type": "stream",
          "text": [
            "Accuracy:  91.75925925925927\n"
          ]
        }
      ],
      "source": [
        "# Using score method to get accuracy of model\n",
        "score = mnb.score(test_x, test_y)\n",
        "print(\"Accuracy: \", score*100)"
      ]
    },
    {
      "cell_type": "code",
      "execution_count": null,
      "metadata": {
        "id": "P-uU2GPIyAzH",
        "outputId": "c76875c1-d3b6-4d31-b537-87a1fe5a25d2"
      },
      "outputs": [
        {
          "data": {
            "text/plain": [
              "Text(0.5, 1, 'Accuracy Score: 0.9175925925925926')"
            ]
          },
          "execution_count": 24,
          "metadata": {},
          "output_type": "execute_result"
        },
        {
          "data": {
            "image/png": "[encoded data removed]",
            "text/plain": [
              "<Figure size 432x288 with 2 Axes>"
            ]
          },
          "metadata": {
            "needs_background": "light"
          },
          "output_type": "display_data"
        }
      ],
      "source": [
        "# Plotting the confusion matrix\n",
        "\n",
        "# Using predicted y-label\n",
        "pred_y = mnb.predict(test_x)\n",
        "\n",
        "cm = metrics.confusion_matrix(test_y, pred_y)\n",
        "plt.figure()\n",
        "sns.heatmap(cm, annot=True, fmt=\".2f\", linewidths=.5, square = True, cmap = 'PuBu_r');\n",
        "plt.ylabel('Actual label');\n",
        "plt.xlabel('Predicted label');\n",
        "all_sample_title = 'Accuracy Score: {0}'.format(score)\n",
        "plt.title(all_sample_title, size = 10)"
      ]
    },
    {
      "cell_type": "markdown",
      "metadata": {
        "id": "OL0SVMEUyAzH"
      },
      "source": [
        "### Decision Tree Classifier"
      ]
    },
    {
      "cell_type": "code",
      "execution_count": null,
      "metadata": {
        "id": "SSfmoRxyyAzH"
      },
      "outputs": [],
      "source": [
        "from sklearn.tree import DecisionTreeClassifier"
      ]
    },
    {
      "cell_type": "code",
      "execution_count": null,
      "metadata": {
        "id": "a52mjdnFyAzH",
        "outputId": "93a34b22-371d-4e99-a328-17332fafc595"
      },
      "outputs": [
        {
          "data": {
            "text/html": [
              "<div>\n",
              "<style scoped>\n",
              "    .dataframe tbody tr th:only-of-type {\n",
              "        vertical-align: middle;\n",
              "    }\n",
              "\n",
              "    .dataframe tbody tr th {\n",
              "        vertical-align: top;\n",
              "    }\n",
              "\n",
              "    .dataframe thead th {\n",
              "        text-align: right;\n",
              "    }\n",
              "</style>\n",
              "<table border=\"1\" class=\"dataframe\">\n",
              "  <thead>\n",
              "    <tr style=\"text-align: right;\">\n",
              "      <th></th>\n",
              "      <th>max_depth</th>\n",
              "      <th>train_acc</th>\n",
              "      <th>test_acc</th>\n",
              "    </tr>\n",
              "  </thead>\n",
              "  <tbody>\n",
              "    <tr>\n",
              "      <th>0</th>\n",
              "      <td>1</td>\n",
              "      <td>0.952976</td>\n",
              "      <td>0.950926</td>\n",
              "    </tr>\n",
              "    <tr>\n",
              "      <th>1</th>\n",
              "      <td>2</td>\n",
              "      <td>0.975000</td>\n",
              "      <td>0.976389</td>\n",
              "    </tr>\n",
              "    <tr>\n",
              "      <th>2</th>\n",
              "      <td>3</td>\n",
              "      <td>0.991667</td>\n",
              "      <td>0.990741</td>\n",
              "    </tr>\n",
              "    <tr>\n",
              "      <th>3</th>\n",
              "      <td>4</td>\n",
              "      <td>0.995635</td>\n",
              "      <td>0.993056</td>\n",
              "    </tr>\n",
              "    <tr>\n",
              "      <th>4</th>\n",
              "      <td>5</td>\n",
              "      <td>0.997619</td>\n",
              "      <td>0.994444</td>\n",
              "    </tr>\n",
              "    <tr>\n",
              "      <th>5</th>\n",
              "      <td>6</td>\n",
              "      <td>0.998413</td>\n",
              "      <td>0.995370</td>\n",
              "    </tr>\n",
              "    <tr>\n",
              "      <th>6</th>\n",
              "      <td>7</td>\n",
              "      <td>0.999405</td>\n",
              "      <td>0.993981</td>\n",
              "    </tr>\n",
              "    <tr>\n",
              "      <th>7</th>\n",
              "      <td>8</td>\n",
              "      <td>1.000000</td>\n",
              "      <td>0.994907</td>\n",
              "    </tr>\n",
              "    <tr>\n",
              "      <th>8</th>\n",
              "      <td>9</td>\n",
              "      <td>1.000000</td>\n",
              "      <td>0.994907</td>\n",
              "    </tr>\n",
              "    <tr>\n",
              "      <th>9</th>\n",
              "      <td>10</td>\n",
              "      <td>1.000000</td>\n",
              "      <td>0.994907</td>\n",
              "    </tr>\n",
              "    <tr>\n",
              "      <th>10</th>\n",
              "      <td>11</td>\n",
              "      <td>1.000000</td>\n",
              "      <td>0.994907</td>\n",
              "    </tr>\n",
              "    <tr>\n",
              "      <th>11</th>\n",
              "      <td>12</td>\n",
              "      <td>1.000000</td>\n",
              "      <td>0.994907</td>\n",
              "    </tr>\n",
              "    <tr>\n",
              "      <th>12</th>\n",
              "      <td>13</td>\n",
              "      <td>1.000000</td>\n",
              "      <td>0.994907</td>\n",
              "    </tr>\n",
              "    <tr>\n",
              "      <th>13</th>\n",
              "      <td>14</td>\n",
              "      <td>1.000000</td>\n",
              "      <td>0.994907</td>\n",
              "    </tr>\n",
              "  </tbody>\n",
              "</table>\n",
              "</div>"
            ],
            "text/plain": [
              "    max_depth  train_acc  test_acc\n",
              "0           1   0.952976  0.950926\n",
              "1           2   0.975000  0.976389\n",
              "2           3   0.991667  0.990741\n",
              "3           4   0.995635  0.993056\n",
              "4           5   0.997619  0.994444\n",
              "5           6   0.998413  0.995370\n",
              "6           7   0.999405  0.993981\n",
              "7           8   1.000000  0.994907\n",
              "8           9   1.000000  0.994907\n",
              "9          10   1.000000  0.994907\n",
              "10         11   1.000000  0.994907\n",
              "11         12   1.000000  0.994907\n",
              "12         13   1.000000  0.994907\n",
              "13         14   1.000000  0.994907"
            ]
          },
          "execution_count": 26,
          "metadata": {},
          "output_type": "execute_result"
        }
      ],
      "source": [
        "# Checking performance with default values\n",
        "\n",
        "train_accuracy = []\n",
        "test_accuracy = []\n",
        "\n",
        "for depth in range(1,15):\n",
        "    decTree = DecisionTreeClassifier(max_depth=depth, random_state=10)\n",
        "    decTree.fit(train_x, train_y)\n",
        "    train_accuracy.append(decTree.score(train_x, train_y))\n",
        "    test_accuracy.append(decTree.score(test_x, test_y))\n",
        "\n",
        "frame = pd.DataFrame({'max_depth':range(1,15), 'train_acc':train_accuracy, 'test_acc':test_accuracy})\n",
        "frame"
      ]
    },
    {
      "cell_type": "code",
      "execution_count": null,
      "metadata": {
        "id": "hKXoGh7GyAzH",
        "outputId": "18a0b9d6-3834-48a9-b5dd-7833f44b0db4"
      },
      "outputs": [
        {
          "data": {
            "image/png": "[encoded data removed]",
            "text/plain": [
              "<Figure size 864x432 with 1 Axes>"
            ]
          },
          "metadata": {
            "needs_background": "light"
          },
          "output_type": "display_data"
        }
      ],
      "source": [
        "plt.figure(figsize=(12,6))\n",
        "plt.plot(frame['max_depth'], frame['train_acc'], marker='x')\n",
        "plt.plot(frame['max_depth'], frame['test_acc'], marker='x')\n",
        "plt.xlabel('Depth of tree')\n",
        "plt.ylabel('performance')\n",
        "plt.show()"
      ]
    },
    {
      "cell_type": "code",
      "execution_count": null,
      "metadata": {
        "id": "arBYygaEyAzH",
        "outputId": "98662478-712a-430f-eddc-04dde9ca7ee6"
      },
      "outputs": [
        {
          "data": {
            "text/plain": [
              "DecisionTreeClassifier(class_weight=None, criterion='gini', max_depth=6,\n",
              "                       max_features=None, max_leaf_nodes=None,\n",
              "                       min_impurity_decrease=0.0, min_impurity_split=None,\n",
              "                       min_samples_leaf=1, min_samples_split=2,\n",
              "                       min_weight_fraction_leaf=0.0, presort=False,\n",
              "                       random_state=10, splitter='best')"
            ]
          },
          "execution_count": 28,
          "metadata": {},
          "output_type": "execute_result"
        }
      ],
      "source": [
        "# Checking the depth manually and passing as parameter\n",
        "\n",
        "decTree = DecisionTreeClassifier(max_depth=6, random_state=10)\n",
        "decTree.fit(train_x, train_y)"
      ]
    },
    {
      "cell_type": "code",
      "execution_count": null,
      "metadata": {
        "id": "JToVr9_xyAzH",
        "outputId": "4181aef3-fcf4-48ed-fb4e-1cf9a1a7938f"
      },
      "outputs": [
        {
          "name": "stdout",
          "output_type": "stream",
          "text": [
            "Accuracy:  99.53703703703704\n"
          ]
        }
      ],
      "source": [
        "# Using score method to get accuracy of model\n",
        "score = decTree.score(test_x, test_y)\n",
        "print(\"Accuracy: \", score*100)"
      ]
    },
    {
      "cell_type": "code",
      "execution_count": null,
      "metadata": {
        "id": "TrwJ48LgyAzH",
        "outputId": "46682672-639c-488c-8686-870e710e0871"
      },
      "outputs": [
        {
          "data": {
            "text/plain": [
              "Text(0.5, 1, 'Accuracy Score: 0.9953703703703703')"
            ]
          },
          "execution_count": 30,
          "metadata": {},
          "output_type": "execute_result"
        },
        {
          "data": {
            "image/png": "[encoded data removed]",
            "text/plain": [
              "<Figure size 432x288 with 2 Axes>"
            ]
          },
          "metadata": {
            "needs_background": "light"
          },
          "output_type": "display_data"
        }
      ],
      "source": [
        "# Plotting the confusion matrix\n",
        "\n",
        "# Using predicted y-label\n",
        "pred_y = decTree.predict(test_x)\n",
        "\n",
        "cm = metrics.confusion_matrix(test_y, pred_y)\n",
        "plt.figure()\n",
        "sns.heatmap(cm, annot=True, fmt=\".2f\", linewidths=.5, square = True, cmap = 'BuPu_r');\n",
        "plt.ylabel('Actual label');\n",
        "plt.xlabel('Predicted label');\n",
        "all_sample_title = 'Accuracy Score: {0}'.format(score)\n",
        "plt.title(all_sample_title, size = 10)"
      ]
    },
    {
      "cell_type": "markdown",
      "metadata": {
        "id": "OURoGiGxyAzH"
      },
      "source": [
        "### Random Forest Classifier"
      ]
    },
    {
      "cell_type": "code",
      "execution_count": null,
      "metadata": {
        "id": "tKk_G61syAzH"
      },
      "outputs": [],
      "source": [
        "from sklearn.ensemble import RandomForestClassifier"
      ]
    },
    {
      "cell_type": "code",
      "execution_count": null,
      "metadata": {
        "id": "tv2SgifOyAzK",
        "outputId": "6b66a8b7-2dcf-4955-cc8f-adecb8bb203e"
      },
      "outputs": [
        {
          "data": {
            "text/html": [
              "<div>\n",
              "<style scoped>\n",
              "    .dataframe tbody tr th:only-of-type {\n",
              "        vertical-align: middle;\n",
              "    }\n",
              "\n",
              "    .dataframe tbody tr th {\n",
              "        vertical-align: top;\n",
              "    }\n",
              "\n",
              "    .dataframe thead th {\n",
              "        text-align: right;\n",
              "    }\n",
              "</style>\n",
              "<table border=\"1\" class=\"dataframe\">\n",
              "  <thead>\n",
              "    <tr style=\"text-align: right;\">\n",
              "      <th></th>\n",
              "      <th>max_depth</th>\n",
              "      <th>train_acc</th>\n",
              "      <th>test_acc</th>\n",
              "    </tr>\n",
              "  </thead>\n",
              "  <tbody>\n",
              "    <tr>\n",
              "      <th>0</th>\n",
              "      <td>1</td>\n",
              "      <td>0.929365</td>\n",
              "      <td>0.917593</td>\n",
              "    </tr>\n",
              "    <tr>\n",
              "      <th>1</th>\n",
              "      <td>2</td>\n",
              "      <td>0.929563</td>\n",
              "      <td>0.917593</td>\n",
              "    </tr>\n",
              "    <tr>\n",
              "      <th>2</th>\n",
              "      <td>3</td>\n",
              "      <td>0.948810</td>\n",
              "      <td>0.937500</td>\n",
              "    </tr>\n",
              "    <tr>\n",
              "      <th>3</th>\n",
              "      <td>4</td>\n",
              "      <td>0.987103</td>\n",
              "      <td>0.977778</td>\n",
              "    </tr>\n",
              "    <tr>\n",
              "      <th>4</th>\n",
              "      <td>5</td>\n",
              "      <td>0.987302</td>\n",
              "      <td>0.981944</td>\n",
              "    </tr>\n",
              "    <tr>\n",
              "      <th>5</th>\n",
              "      <td>6</td>\n",
              "      <td>0.996825</td>\n",
              "      <td>0.992593</td>\n",
              "    </tr>\n",
              "    <tr>\n",
              "      <th>6</th>\n",
              "      <td>7</td>\n",
              "      <td>0.997421</td>\n",
              "      <td>0.992130</td>\n",
              "    </tr>\n",
              "    <tr>\n",
              "      <th>7</th>\n",
              "      <td>8</td>\n",
              "      <td>0.999008</td>\n",
              "      <td>0.992130</td>\n",
              "    </tr>\n",
              "    <tr>\n",
              "      <th>8</th>\n",
              "      <td>9</td>\n",
              "      <td>0.999206</td>\n",
              "      <td>0.993056</td>\n",
              "    </tr>\n",
              "    <tr>\n",
              "      <th>9</th>\n",
              "      <td>10</td>\n",
              "      <td>0.999008</td>\n",
              "      <td>0.990741</td>\n",
              "    </tr>\n",
              "    <tr>\n",
              "      <th>10</th>\n",
              "      <td>11</td>\n",
              "      <td>0.999802</td>\n",
              "      <td>0.992593</td>\n",
              "    </tr>\n",
              "    <tr>\n",
              "      <th>11</th>\n",
              "      <td>12</td>\n",
              "      <td>1.000000</td>\n",
              "      <td>0.991667</td>\n",
              "    </tr>\n",
              "    <tr>\n",
              "      <th>12</th>\n",
              "      <td>13</td>\n",
              "      <td>1.000000</td>\n",
              "      <td>0.993056</td>\n",
              "    </tr>\n",
              "    <tr>\n",
              "      <th>13</th>\n",
              "      <td>14</td>\n",
              "      <td>1.000000</td>\n",
              "      <td>0.991667</td>\n",
              "    </tr>\n",
              "  </tbody>\n",
              "</table>\n",
              "</div>"
            ],
            "text/plain": [
              "    max_depth  train_acc  test_acc\n",
              "0           1   0.929365  0.917593\n",
              "1           2   0.929563  0.917593\n",
              "2           3   0.948810  0.937500\n",
              "3           4   0.987103  0.977778\n",
              "4           5   0.987302  0.981944\n",
              "5           6   0.996825  0.992593\n",
              "6           7   0.997421  0.992130\n",
              "7           8   0.999008  0.992130\n",
              "8           9   0.999206  0.993056\n",
              "9          10   0.999008  0.990741\n",
              "10         11   0.999802  0.992593\n",
              "11         12   1.000000  0.991667\n",
              "12         13   1.000000  0.993056\n",
              "13         14   1.000000  0.991667"
            ]
          },
          "execution_count": 32,
          "metadata": {},
          "output_type": "execute_result"
        }
      ],
      "source": [
        "# Checking performance with default values\n",
        "\n",
        "train_accuracy = []\n",
        "test_accuracy = []\n",
        "\n",
        "for depth in range(1,15):\n",
        "    randForest = RandomForestClassifier(max_depth=depth, random_state=10, n_estimators=10)\n",
        "    randForest.fit(train_x, train_y)\n",
        "    train_accuracy.append(randForest.score(train_x, train_y))\n",
        "    test_accuracy.append(randForest.score(test_x, test_y))\n",
        "\n",
        "frame = pd.DataFrame({'max_depth':range(1,15), 'train_acc':train_accuracy, 'test_acc':test_accuracy})\n",
        "frame"
      ]
    },
    {
      "cell_type": "code",
      "execution_count": null,
      "metadata": {
        "id": "Q37Rk3k2yAzL",
        "outputId": "66871fda-812e-452b-c13e-f71d6fdbe339"
      },
      "outputs": [
        {
          "data": {
            "image/png": "[encoded data removed]",
            "text/plain": [
              "<Figure size 864x432 with 1 Axes>"
            ]
          },
          "metadata": {
            "needs_background": "light"
          },
          "output_type": "display_data"
        }
      ],
      "source": [
        "plt.figure(figsize=(12,6))\n",
        "plt.plot(frame['max_depth'], frame['train_acc'], marker='o')\n",
        "plt.plot(frame['max_depth'], frame['test_acc'], marker='o')\n",
        "plt.xlabel('Depth of tree')\n",
        "plt.ylabel('performance')\n",
        "plt.show()"
      ]
    },
    {
      "cell_type": "code",
      "execution_count": null,
      "metadata": {
        "id": "ZzwGKleuyAzL",
        "outputId": "e37ee8c7-4433-47fc-c784-95d80579e154"
      },
      "outputs": [
        {
          "data": {
            "text/plain": [
              "RandomForestClassifier(bootstrap=True, class_weight=None, criterion='gini',\n",
              "                       max_depth=13, max_features='auto', max_leaf_nodes=None,\n",
              "                       min_impurity_decrease=0.0, min_impurity_split=None,\n",
              "                       min_samples_leaf=1, min_samples_split=2,\n",
              "                       min_weight_fraction_leaf=0.0, n_estimators=10,\n",
              "                       n_jobs=None, oob_score=False, random_state=10, verbose=0,\n",
              "                       warm_start=False)"
            ]
          },
          "execution_count": 34,
          "metadata": {},
          "output_type": "execute_result"
        }
      ],
      "source": [
        "randForest = RandomForestClassifier(max_depth=13, random_state=10, n_estimators=10)\n",
        "randForest.fit(train_x, train_y)"
      ]
    },
    {
      "cell_type": "code",
      "execution_count": null,
      "metadata": {
        "id": "g8iFDpKvyAzL",
        "outputId": "0599e294-70fb-4218-feeb-6fc3b1d21be1"
      },
      "outputs": [
        {
          "name": "stdout",
          "output_type": "stream",
          "text": [
            "Accuracy:  99.30555555555556\n"
          ]
        }
      ],
      "source": [
        "# Using score method to get accuracy of model\n",
        "score = randForest.score(test_x, test_y)\n",
        "print(\"Accuracy: \", score*100)"
      ]
    },
    {
      "cell_type": "code",
      "execution_count": null,
      "metadata": {
        "id": "97MtC_FCyAzL",
        "outputId": "9d33ba31-a2ce-42aa-8eb0-d2bdcfe5a968"
      },
      "outputs": [
        {
          "data": {
            "text/plain": [
              "Text(0.5, 1, 'Accuracy Score: 0.9930555555555556')"
            ]
          },
          "execution_count": 36,
          "metadata": {},
          "output_type": "execute_result"
        },
        {
          "data": {
            "image/png": "[encoded data removed]",
            "text/plain": [
              "<Figure size 432x288 with 2 Axes>"
            ]
          },
          "metadata": {
            "needs_background": "light"
          },
          "output_type": "display_data"
        }
      ],
      "source": [
        "# Plotting the confusion matrix\n",
        "\n",
        "# Using predicted y-label\n",
        "pred_y = randForest.predict(test_x)\n",
        "\n",
        "cm = metrics.confusion_matrix(test_y, pred_y)\n",
        "plt.figure()\n",
        "sns.heatmap(cm, annot=True, fmt=\".2f\", linewidths=.5, square = True, cmap = 'GnBu_r');\n",
        "plt.ylabel('Actual label');\n",
        "plt.xlabel('Predicted label');\n",
        "all_sample_title = 'Accuracy Score: {0}'.format(score)\n",
        "plt.title(all_sample_title, size = 10)"
      ]
    },
    {
      "cell_type": "markdown",
      "metadata": {
        "id": "tizVob9qyAzL"
      },
      "source": [
        "### Training Random Forest Classifier based only on top important features"
      ]
    },
    {
      "cell_type": "code",
      "execution_count": null,
      "metadata": {
        "id": "xQFk39DAyAzL",
        "outputId": "7b80d14d-7558-48ed-d814-143fccb87012"
      },
      "outputs": [
        {
          "data": {
            "text/plain": [
              "TSH                          0.541012\n",
              "FTI                          0.140315\n",
              "TT4                          0.103293\n",
              "On_thyroxine                 0.084909\n",
              "T3                           0.047890\n",
              "T4U                          0.036412\n",
              "Age                          0.023102\n",
              "Thyroid_surgery              0.005039\n",
              "Sex                          0.004856\n",
              "Query_hyperthyroid           0.002864\n",
              "Query_hypothyroid            0.002272\n",
              "On_antithyroid_medication    0.001521\n",
              "Sick                         0.001475\n",
              "I131_treatment               0.001402\n",
              "Query_on_thyroxine           0.001201\n",
              "Psych                        0.000961\n",
              "Tumor                        0.000819\n",
              "Lithium                      0.000281\n",
              "Goitre                       0.000251\n",
              "Pregnant                     0.000126\n",
              "Hypopituitary                0.000000\n",
              "dtype: float64"
            ]
          },
          "execution_count": 37,
          "metadata": {},
          "output_type": "execute_result"
        }
      ],
      "source": [
        "#feature importance against each variable\n",
        "\n",
        "feature_imp = pd.Series(randForest.feature_importances_,index=train_x.columns).sort_values(ascending=False)\n",
        "feature_imp"
      ]
    },
    {
      "cell_type": "code",
      "execution_count": null,
      "metadata": {
        "id": "0EKewjPqyAzL",
        "outputId": "9964e5de-eb60-4b1c-c733-85570ca8f7ab"
      },
      "outputs": [
        {
          "data": {
            "image/png": "[encoded data removed]",
            "text/plain": [
              "<Figure size 432x288 with 1 Axes>"
            ]
          },
          "metadata": {
            "needs_background": "light"
          },
          "output_type": "display_data"
        }
      ],
      "source": [
        "sns.barplot(x=feature_imp, y=feature_imp.index)\n",
        "# Add labels to your graph\n",
        "plt.xlabel('Feature Importance Score')\n",
        "plt.ylabel('Features')\n",
        "plt.title(\"Visualizing Important Features\")\n",
        "plt.show()"
      ]
    },
    {
      "cell_type": "code",
      "execution_count": null,
      "metadata": {
        "id": "2sV-kT4EyAzL"
      },
      "outputs": [],
      "source": [
        "# Split dataset into features and labels\n",
        "X=df[['TSH', \"FTI\", \"TT4\", \"On_thyroxine\", \"T3\"]]\n",
        "Y=df['Class']\n",
        "# Split dataset into training set and test set\n",
        "train_X, test_X, train_Y, test_Y = train_test_split(X, Y, test_size=0.30, random_state=10)"
      ]
    },
    {
      "cell_type": "code",
      "execution_count": null,
      "metadata": {
        "id": "sj7J3f6fyAzL",
        "outputId": "162686fe-c29b-48c9-e72f-50527310a972"
      },
      "outputs": [
        {
          "data": {
            "text/html": [
              "<div>\n",
              "<style scoped>\n",
              "    .dataframe tbody tr th:only-of-type {\n",
              "        vertical-align: middle;\n",
              "    }\n",
              "\n",
              "    .dataframe tbody tr th {\n",
              "        vertical-align: top;\n",
              "    }\n",
              "\n",
              "    .dataframe thead th {\n",
              "        text-align: right;\n",
              "    }\n",
              "</style>\n",
              "<table border=\"1\" class=\"dataframe\">\n",
              "  <thead>\n",
              "    <tr style=\"text-align: right;\">\n",
              "      <th></th>\n",
              "      <th>max_depth</th>\n",
              "      <th>train_acc</th>\n",
              "      <th>test_acc</th>\n",
              "    </tr>\n",
              "  </thead>\n",
              "  <tbody>\n",
              "    <tr>\n",
              "      <th>0</th>\n",
              "      <td>1</td>\n",
              "      <td>0.943849</td>\n",
              "      <td>0.942593</td>\n",
              "    </tr>\n",
              "    <tr>\n",
              "      <th>1</th>\n",
              "      <td>2</td>\n",
              "      <td>0.946429</td>\n",
              "      <td>0.943056</td>\n",
              "    </tr>\n",
              "    <tr>\n",
              "      <th>2</th>\n",
              "      <td>3</td>\n",
              "      <td>0.962103</td>\n",
              "      <td>0.959259</td>\n",
              "    </tr>\n",
              "    <tr>\n",
              "      <th>3</th>\n",
              "      <td>4</td>\n",
              "      <td>0.993651</td>\n",
              "      <td>0.992593</td>\n",
              "    </tr>\n",
              "    <tr>\n",
              "      <th>4</th>\n",
              "      <td>5</td>\n",
              "      <td>0.994841</td>\n",
              "      <td>0.993056</td>\n",
              "    </tr>\n",
              "    <tr>\n",
              "      <th>5</th>\n",
              "      <td>6</td>\n",
              "      <td>0.996032</td>\n",
              "      <td>0.995833</td>\n",
              "    </tr>\n",
              "    <tr>\n",
              "      <th>6</th>\n",
              "      <td>7</td>\n",
              "      <td>0.997817</td>\n",
              "      <td>0.996296</td>\n",
              "    </tr>\n",
              "    <tr>\n",
              "      <th>7</th>\n",
              "      <td>8</td>\n",
              "      <td>0.997817</td>\n",
              "      <td>0.995833</td>\n",
              "    </tr>\n",
              "    <tr>\n",
              "      <th>8</th>\n",
              "      <td>9</td>\n",
              "      <td>0.998214</td>\n",
              "      <td>0.994907</td>\n",
              "    </tr>\n",
              "    <tr>\n",
              "      <th>9</th>\n",
              "      <td>10</td>\n",
              "      <td>0.998214</td>\n",
              "      <td>0.996296</td>\n",
              "    </tr>\n",
              "    <tr>\n",
              "      <th>10</th>\n",
              "      <td>11</td>\n",
              "      <td>0.999008</td>\n",
              "      <td>0.995833</td>\n",
              "    </tr>\n",
              "    <tr>\n",
              "      <th>11</th>\n",
              "      <td>12</td>\n",
              "      <td>0.999603</td>\n",
              "      <td>0.995833</td>\n",
              "    </tr>\n",
              "    <tr>\n",
              "      <th>12</th>\n",
              "      <td>13</td>\n",
              "      <td>0.999603</td>\n",
              "      <td>0.995833</td>\n",
              "    </tr>\n",
              "    <tr>\n",
              "      <th>13</th>\n",
              "      <td>14</td>\n",
              "      <td>0.999405</td>\n",
              "      <td>0.995370</td>\n",
              "    </tr>\n",
              "  </tbody>\n",
              "</table>\n",
              "</div>"
            ],
            "text/plain": [
              "    max_depth  train_acc  test_acc\n",
              "0           1   0.943849  0.942593\n",
              "1           2   0.946429  0.943056\n",
              "2           3   0.962103  0.959259\n",
              "3           4   0.993651  0.992593\n",
              "4           5   0.994841  0.993056\n",
              "5           6   0.996032  0.995833\n",
              "6           7   0.997817  0.996296\n",
              "7           8   0.997817  0.995833\n",
              "8           9   0.998214  0.994907\n",
              "9          10   0.998214  0.996296\n",
              "10         11   0.999008  0.995833\n",
              "11         12   0.999603  0.995833\n",
              "12         13   0.999603  0.995833\n",
              "13         14   0.999405  0.995370"
            ]
          },
          "execution_count": 40,
          "metadata": {},
          "output_type": "execute_result"
        }
      ],
      "source": [
        "# Checking performance with default values, and changed input data to \"X\"\n",
        "\n",
        "train_accuracy = []\n",
        "test_accuracy = []\n",
        "\n",
        "for depth in range(1,15):\n",
        "    randForest = RandomForestClassifier(max_depth=depth, random_state=10, n_estimators=10)\n",
        "    randForest.fit(train_X, train_Y)\n",
        "    train_accuracy.append(randForest.score(train_X, train_Y))\n",
        "    test_accuracy.append(randForest.score(test_X, test_Y))\n",
        "\n",
        "frame = pd.DataFrame({'max_depth':range(1,15), 'train_acc':train_accuracy, 'test_acc':test_accuracy})\n",
        "frame"
      ]
    },
    {
      "cell_type": "code",
      "execution_count": null,
      "metadata": {
        "id": "mhUZj8WGyAzL",
        "outputId": "f2b1ecc6-a063-4cdc-b254-dfb8c39dd130"
      },
      "outputs": [
        {
          "name": "stdout",
          "output_type": "stream",
          "text": [
            "Accuracy:  99.62962962962963\n"
          ]
        }
      ],
      "source": [
        "rf_feat_imp_model = RandomForestClassifier(max_depth=10, random_state=10, n_estimators=10)\n",
        "rf_feat_imp_model.fit(train_X, train_Y)\n",
        "\n",
        "# Score\n",
        "print(\"Accuracy: \",rf_feat_imp_model.score(test_X, test_Y)*100)"
      ]
    },
    {
      "cell_type": "markdown",
      "metadata": {
        "id": "rSLIYd9dyAzL"
      },
      "source": [
        "### Boosting the Classifiers"
      ]
    },
    {
      "cell_type": "code",
      "execution_count": null,
      "metadata": {
        "id": "weYlwEIwyAzL",
        "outputId": "0ffeee6c-f6ea-4312-eec7-8df1d21e8524"
      },
      "outputs": [
        {
          "data": {
            "text/plain": [
              "AdaBoostClassifier(algorithm='SAMME.R',\n",
              "                   base_estimator=DecisionTreeClassifier(class_weight=None,\n",
              "                                                         criterion='gini',\n",
              "                                                         max_depth=6,\n",
              "                                                         max_features=None,\n",
              "                                                         max_leaf_nodes=None,\n",
              "                                                         min_impurity_decrease=0.0,\n",
              "                                                         min_impurity_split=None,\n",
              "                                                         min_samples_leaf=1,\n",
              "                                                         min_samples_split=2,\n",
              "                                                         min_weight_fraction_leaf=0.0,\n",
              "                                                         presort=False,\n",
              "                                                         random_state=10,\n",
              "                                                         splitter='best'),\n",
              "                   learning_rate=1, n_estimators=120, random_state=None)"
            ]
          },
          "execution_count": 42,
          "metadata": {},
          "output_type": "execute_result"
        }
      ],
      "source": [
        "# Load libraries\n",
        "from sklearn.ensemble import AdaBoostClassifier\n",
        "\n",
        "# Create adaboost classifer object\n",
        "abc = AdaBoostClassifier(base_estimator=decTree, n_estimators=120, learning_rate=1)\n",
        "abc.fit(train_x, train_y)"
      ]
    },
    {
      "cell_type": "code",
      "execution_count": null,
      "metadata": {
        "id": "XIlSyq0WyAzM",
        "outputId": "ece9de36-f88e-4648-ccc1-ac6f9586a495"
      },
      "outputs": [
        {
          "name": "stdout",
          "output_type": "stream",
          "text": [
            "Accuracy:  99.49074074074075\n"
          ]
        }
      ],
      "source": [
        "# Using score method to get accuracy of model\n",
        "score = abc.score(test_x, test_y)\n",
        "print(\"Accuracy: \", score*100)"
      ]
    },
    {
      "cell_type": "code",
      "execution_count": null,
      "metadata": {
        "id": "iXcpOKBdyAzM",
        "outputId": "ca649539-0f53-420f-b19a-f69e2639e314"
      },
      "outputs": [
        {
          "data": {
            "text/plain": [
              "GradientBoostingClassifier(criterion='friedman_mse', init=None,\n",
              "                           learning_rate=0.6, loss='deviance', max_depth=10,\n",
              "                           max_features=None, max_leaf_nodes=None,\n",
              "                           min_impurity_decrease=0.0, min_impurity_split=None,\n",
              "                           min_samples_leaf=1, min_samples_split=2,\n",
              "                           min_weight_fraction_leaf=0.0, n_estimators=100,\n",
              "                           n_iter_no_change=None, presort='auto',\n",
              "                           random_state=None, subsample=1.0, tol=0.0001,\n",
              "                           validation_fraction=0.1, verbose=0,\n",
              "                           warm_start=False)"
            ]
          },
          "execution_count": 44,
          "metadata": {},
          "output_type": "execute_result"
        }
      ],
      "source": [
        "# Load libraries\n",
        "from sklearn.ensemble import GradientBoostingClassifier\n",
        "\n",
        "# Create adaboost classifer object\n",
        "gbc = GradientBoostingClassifier(max_depth=10, learning_rate=0.6)\n",
        "gbc.fit(train_x, train_y)"
      ]
    },
    {
      "cell_type": "code",
      "execution_count": null,
      "metadata": {
        "id": "zKD0UotcyAzM",
        "outputId": "807411bb-db64-47aa-911f-5f3779a340f4"
      },
      "outputs": [
        {
          "name": "stdout",
          "output_type": "stream",
          "text": [
            "Accuracy:  99.49074074074075\n"
          ]
        }
      ],
      "source": [
        "# Using score method to get accuracy of model\n",
        "score = gbc.score(test_x, test_y)\n",
        "print(\"Accuracy: \", score*100)"
      ]
    },
    {
      "cell_type": "code",
      "execution_count": null,
      "metadata": {
        "id": "1f-SIieDyAzM"
      },
      "outputs": [],
      "source": []
    },
    {
      "cell_type": "markdown",
      "metadata": {
        "id": "JmzOGJ2VyAzM"
      },
      "source": [
        "## Creating Ensemble Models"
      ]
    },
    {
      "cell_type": "code",
      "execution_count": null,
      "metadata": {
        "id": "7w_AQsfSyAzM",
        "outputId": "c7f7d78e-dce4-4102-9a2b-dad236f8e132"
      },
      "outputs": [
        {
          "data": {
            "text/plain": [
              "VotingClassifier(estimators=[('dec-tree',\n",
              "                              DecisionTreeClassifier(class_weight=None,\n",
              "                                                     criterion='gini',\n",
              "                                                     max_depth=6,\n",
              "                                                     max_features=None,\n",
              "                                                     max_leaf_nodes=None,\n",
              "                                                     min_impurity_decrease=0.0,\n",
              "                                                     min_impurity_split=None,\n",
              "                                                     min_samples_leaf=1,\n",
              "                                                     min_samples_split=2,\n",
              "                                                     min_weight_fraction_leaf=0.0,\n",
              "                                                     presort=False,\n",
              "                                                     random_state=10,\n",
              "                                                     splitter='best')),\n",
              "                             ('rand-forest',\n",
              "                              RandomForestClassifi...\n",
              "                                                     n_estimators=10,\n",
              "                                                     n_jobs=None,\n",
              "                                                     oob_score=False,\n",
              "                                                     random_state=10, verbose=0,\n",
              "                                                     warm_start=False)),\n",
              "                             ('svm',\n",
              "                              SVC(C=1, cache_size=200, class_weight=None,\n",
              "                                  coef0=0.0, decision_function_shape='ovr',\n",
              "                                  degree=3, gamma='auto', kernel='linear',\n",
              "                                  max_iter=-1, probability=False,\n",
              "                                  random_state=10, shrinking=True, tol=0.001,\n",
              "                                  verbose=False))],\n",
              "                 flatten_transform=True, n_jobs=None, voting='hard',\n",
              "                 weights=None)"
            ]
          },
          "execution_count": 46,
          "metadata": {},
          "output_type": "execute_result"
        }
      ],
      "source": [
        "# Voting Ensemble for Classification\n",
        "from sklearn import model_selection\n",
        "from sklearn.ensemble import VotingClassifier\n",
        "\n",
        "# import warnings filter\n",
        "from warnings import simplefilter\n",
        "simplefilter(action='ignore', category=FutureWarning)\n",
        "\n",
        "kfold = model_selection.KFold(n_splits=15, random_state=10)\n",
        "\n",
        "# creating the sub models\n",
        "estimators_1 = []\n",
        "\n",
        "model1 = DecisionTreeClassifier(max_depth=6, random_state=10)\n",
        "estimators_1.append(('dec-tree', model1))\n",
        "\n",
        "model2 = RandomForestClassifier(max_depth=13, random_state=10, n_estimators=10)\n",
        "estimators_1.append(('rand-forest', model2))\n",
        "\n",
        "model3 = SVC(kernel = 'linear', C = 1, gamma='auto', random_state=10)\n",
        "estimators_1.append(('svm', model3))\n",
        "\n",
        "# create the ensemble model\n",
        "ensemble_1 = VotingClassifier(estimators_1)\n",
        "results = model_selection.cross_val_score(ensemble_1, train_x, train_y, cv=kfold)\n",
        "ensemble_1.fit(train_x, train_y)"
      ]
    },
    {
      "cell_type": "code",
      "execution_count": null,
      "metadata": {
        "id": "kED3JuCxyAzM",
        "outputId": "1cb43509-6e4e-4efc-e4f6-3c3f381b6c79"
      },
      "outputs": [
        {
          "name": "stdout",
          "output_type": "stream",
          "text": [
            "Accuracy:  99.53703703703704\n"
          ]
        }
      ],
      "source": [
        "# Using score method to get accuracy of model\n",
        "score = ensemble_1.score(test_x, test_y)\n",
        "print(\"Accuracy: \", score*100)"
      ]
    },
    {
      "cell_type": "code",
      "execution_count": null,
      "metadata": {
        "id": "D0BDDb6QyAzM",
        "outputId": "8b4be0ab-faba-496c-9493-00658d3f6f73"
      },
      "outputs": [
        {
          "data": {
            "text/plain": [
              "VotingClassifier(estimators=[('dec-tree',\n",
              "                              DecisionTreeClassifier(class_weight=None,\n",
              "                                                     criterion='gini',\n",
              "                                                     max_depth=None,\n",
              "                                                     max_features=None,\n",
              "                                                     max_leaf_nodes=None,\n",
              "                                                     min_impurity_decrease=0.0,\n",
              "                                                     min_impurity_split=None,\n",
              "                                                     min_samples_leaf=1,\n",
              "                                                     min_samples_split=2,\n",
              "                                                     min_weight_fraction_leaf=0.0,\n",
              "                                                     presort=False,\n",
              "                                                     random_state=None,\n",
              "                                                     splitter='best')),\n",
              "                             ('rand-forest',\n",
              "                              RandomForestCla...\n",
              "                                                     random_state=None,\n",
              "                                                     verbose=0,\n",
              "                                                     warm_start=False)),\n",
              "                             ('log-regr',\n",
              "                              LogisticRegression(C=1.0, class_weight=None,\n",
              "                                                 dual=False, fit_intercept=True,\n",
              "                                                 intercept_scaling=1,\n",
              "                                                 l1_ratio=None, max_iter=100,\n",
              "                                                 multi_class='warn',\n",
              "                                                 n_jobs=None, penalty='l2',\n",
              "                                                 random_state=None,\n",
              "                                                 solver='warn', tol=0.0001,\n",
              "                                                 verbose=0,\n",
              "                                                 warm_start=False))],\n",
              "                 flatten_transform=True, n_jobs=None, voting='hard',\n",
              "                 weights=None)"
            ]
          },
          "execution_count": 48,
          "metadata": {},
          "output_type": "execute_result"
        }
      ],
      "source": [
        "# import warnings filter\n",
        "from warnings import simplefilter\n",
        "simplefilter(action='ignore', category=FutureWarning)\n",
        "\n",
        "kfold = model_selection.KFold(n_splits=25, random_state=10)\n",
        "\n",
        "# creating the sub models\n",
        "estimators_2 = []\n",
        "\n",
        "model1 = DecisionTreeClassifier()\n",
        "estimators_2.append(('dec-tree', model1))\n",
        "\n",
        "model2 = RandomForestClassifier()\n",
        "estimators_2.append(('rand-forest', model2))\n",
        "\n",
        "model3 = LogisticRegression()\n",
        "estimators_2.append(('log-regr', model3))\n",
        "\n",
        "# create the ensemble model\n",
        "ensemble_2 = VotingClassifier(estimators_2)\n",
        "results = model_selection.cross_val_score(ensemble_2, train_x, train_y, cv=kfold)\n",
        "ensemble_2.fit(train_x, train_y)"
      ]
    },
    {
      "cell_type": "code",
      "execution_count": null,
      "metadata": {
        "id": "KP2vusY5yAzM",
        "outputId": "17052ec8-ccb9-4306-b342-19a775e5c0e4"
      },
      "outputs": [
        {
          "name": "stdout",
          "output_type": "stream",
          "text": [
            "Accuracy:  99.25925925925925\n"
          ]
        }
      ],
      "source": [
        "# Using score method to get accuracy of model\n",
        "score = ensemble_2.score(test_x, test_y)\n",
        "print(\"Accuracy: \", score*100)"
      ]
    },
    {
      "cell_type": "code",
      "execution_count": null,
      "metadata": {
        "id": "T516AUfIyAzM",
        "outputId": "ccce2db1-3b3c-4d31-95e0-fc379d820888"
      },
      "outputs": [
        {
          "data": {
            "text/plain": [
              "VotingClassifier(estimators=[('dec-tree',\n",
              "                              DecisionTreeClassifier(class_weight=None,\n",
              "                                                     criterion='gini',\n",
              "                                                     max_depth=14,\n",
              "                                                     max_features=None,\n",
              "                                                     max_leaf_nodes=None,\n",
              "                                                     min_impurity_decrease=0.0,\n",
              "                                                     min_impurity_split=None,\n",
              "                                                     min_samples_leaf=1,\n",
              "                                                     min_samples_split=2,\n",
              "                                                     min_weight_fraction_leaf=0.0,\n",
              "                                                     presort=False,\n",
              "                                                     random_state=10,\n",
              "                                                     splitter='best')),\n",
              "                             ('rand-forest',\n",
              "                              RandomForestClassif...\n",
              "                                                     class_weight=None,\n",
              "                                                     criterion='gini',\n",
              "                                                     max_depth=13,\n",
              "                                                     max_features='auto',\n",
              "                                                     max_leaf_nodes=None,\n",
              "                                                     min_impurity_decrease=0.0,\n",
              "                                                     min_impurity_split=None,\n",
              "                                                     min_samples_leaf=1,\n",
              "                                                     min_samples_split=2,\n",
              "                                                     min_weight_fraction_leaf=0.0,\n",
              "                                                     n_estimators=10,\n",
              "                                                     n_jobs=None,\n",
              "                                                     oob_score=False,\n",
              "                                                     random_state=10, verbose=0,\n",
              "                                                     warm_start=False))],\n",
              "                 flatten_transform=True, n_jobs=None, voting='hard',\n",
              "                 weights=None)"
            ]
          },
          "execution_count": 50,
          "metadata": {},
          "output_type": "execute_result"
        }
      ],
      "source": [
        "# Ensembling only Decision Trees and Random Forests\n",
        "from sklearn import model_selection\n",
        "from sklearn.ensemble import VotingClassifier\n",
        "\n",
        "# import warnings filter\n",
        "from warnings import simplefilter\n",
        "simplefilter(action='ignore', category=FutureWarning)\n",
        "\n",
        "kfold = model_selection.KFold(n_splits=25, random_state=10)\n",
        "\n",
        "# creating the sub models\n",
        "estimators_3 = []\n",
        "model1 = DecisionTreeClassifier(max_depth=depth, random_state=10)\n",
        "estimators_3.append(('dec-tree', model1))\n",
        "\n",
        "model2 = RandomForestClassifier(max_depth=13, random_state=10, n_estimators=10)\n",
        "estimators_3.append(('rand-forest', model2))\n",
        "\n",
        "# create the ensemble model\n",
        "ensemble_3 = VotingClassifier(estimators_3)\n",
        "results = model_selection.cross_val_score(ensemble_3, train_x, train_y, cv=kfold)\n",
        "ensemble_3.fit(train_x, train_y)"
      ]
    },
    {
      "cell_type": "code",
      "execution_count": null,
      "metadata": {
        "id": "WDbwDzkcyAzM",
        "outputId": "edeacc4e-758e-4bfb-f593-0dc5acc48b77"
      },
      "outputs": [
        {
          "name": "stdout",
          "output_type": "stream",
          "text": [
            "Accuracy:  99.35185185185185\n"
          ]
        }
      ],
      "source": [
        "# Using score method to get accuracy of model\n",
        "score = ensemble_3.score(test_x, test_y)\n",
        "print(\"Accuracy: \", score*100)"
      ]
    },
    {
      "cell_type": "code",
      "execution_count": null,
      "metadata": {
        "id": "16KRgFQ2yAzM"
      },
      "outputs": [],
      "source": []
    },
    {
      "cell_type": "markdown",
      "metadata": {
        "id": "jCb5p0XXyAzM"
      },
      "source": [
        "### Predicting The Condition, given the input values"
      ]
    },
    {
      "cell_type": "code",
      "execution_count": null,
      "metadata": {
        "id": "Zc3Xor83yAzM",
        "outputId": "20fd1684-d6ef-4f55-a3c7-e8ce0cdeea4d"
      },
      "outputs": [
        {
          "name": "stdout",
          "output_type": "stream",
          "text": [
            "[3]\n"
          ]
        }
      ],
      "source": [
        "#Age, Sex, On_thyroxine, Query_on_thyroxine, On_antithyroid_medication, Sick, Pregnant, Thyroid_surgery, I131_treatment,\n",
        "#    Query_hypothyroid, Query_hyperthyroid, Lithium, Goitre, Tumor, Hypopituitary, Psych, TSH, T3, TT4, T4U, FTI\n",
        "\n",
        "input_1 = [[0.73, 0, 1, 0, 0, 0, 0, 0, 1, 0, 0, 0, 0, 0, 0, 0, 0.0006, 0.015, 0.12, 0.082, 0.146]]\n",
        "ensemble_model = ensemble_2.fit(x, y)\n",
        "result_1 = ensemble_model.predict(input_1)\n",
        "\n",
        "print(result_1)"
      ]
    },
    {
      "cell_type": "code",
      "execution_count": null,
      "metadata": {
        "id": "Deah3KR_yAzN"
      },
      "outputs": [],
      "source": []
    },
    {
      "cell_type": "markdown",
      "metadata": {
        "id": "Cw5omLMhyAzN"
      },
      "source": [
        "## Graphical User Interface(GUI) for values input:"
      ]
    },
    {
      "cell_type": "code",
      "execution_count": null,
      "metadata": {
        "colab": {
          "referenced_widgets": [
            "70dd50be02064bbc889c76474a8cd634",
            "b61e22c987e743f69bb04716f1a8c56d",
            "05eb64361da547f38bc98c19bb86a154"
          ]
        },
        "id": "BISxVe92yAzN",
        "outputId": "1d622b8e-60f6-4ad4-fbf3-9f2becffb36b"
      },
      "outputs": [
        {
          "data": {
            "application/vnd.jupyter.widget-view+json": {
              "model_id": "70dd50be02064bbc889c76474a8cd634",
              "version_major": 2,
              "version_minor": 0
            },
            "text/plain": [
              "VBox(children=(IntSlider(value=1, description='Age:', max=97, min=1), HBox(children=(RadioButtons(description=…"
            ]
          },
          "metadata": {},
          "output_type": "display_data"
        },
        {
          "data": {
            "application/vnd.jupyter.widget-view+json": {
              "model_id": "b61e22c987e743f69bb04716f1a8c56d",
              "version_major": 2,
              "version_minor": 0
            },
            "text/plain": [
              "Button(description='Check my condition', style=ButtonStyle())"
            ]
          },
          "metadata": {},
          "output_type": "display_data"
        },
        {
          "data": {
            "application/vnd.jupyter.widget-view+json": {
              "model_id": "05eb64361da547f38bc98c19bb86a154",
              "version_major": 2,
              "version_minor": 0
            },
            "text/plain": [
              "Output()"
            ]
          },
          "metadata": {},
          "output_type": "display_data"
        }
      ],
      "source": [
        "import ipywidgets as widgets\n",
        "from ipywidgets import HBox, VBox, Layout\n",
        "\n",
        "slider_1 = widgets.IntSlider(min=1, max=97, description='Age:')\n",
        "row_1 = slider_1\n",
        "\n",
        "radio_1 = widgets.RadioButtons(options=['male', 'female'], description='Gender:')\n",
        "radio_2 = widgets.RadioButtons(options=['yes', 'no'], description='On thyroxine:')\n",
        "radio_3 = widgets.RadioButtons(options=['yes', 'no'], description='Query on thyroxine:')\n",
        "radio_4 = widgets.RadioButtons(options=['yes', 'no'], description='On antithyroid medication:')\n",
        "radio_5 = widgets.RadioButtons(options=['yes', 'no'], description='Sick:')\n",
        "row_2 = HBox([radio_1, radio_2, radio_3, radio_4, radio_5], layout=Layout(margin='20px 0 0 0'))\n",
        "\n",
        "radio_6 = widgets.RadioButtons(options=['yes', 'no'], description='Pregnant:')\n",
        "radio_7 = widgets.RadioButtons(options=['yes', 'no'], description='Thyroid_surgery:')\n",
        "radio_8 = widgets.RadioButtons(options=['yes', 'no'], description='I131 treatment:')\n",
        "radio_9 = widgets.RadioButtons(options=['yes', 'no'], description='Query hypothyroid:')\n",
        "radio_10 = widgets.RadioButtons(options=['yes', 'no'], description='Query hyperthyroid:')\n",
        "row_3 = HBox([radio_6, radio_7, radio_8, radio_9, radio_10], layout=Layout(margin='20px 0 0 0'))\n",
        "\n",
        "radio_11 = widgets.RadioButtons(options=['yes', 'no'], description='Lithium:')\n",
        "radio_12 = widgets.RadioButtons(options=['yes', 'no'], description='Goitre:')\n",
        "radio_13 = widgets.RadioButtons(options=['yes', 'no'], description='Tumor:')\n",
        "radio_14 = widgets.RadioButtons(options=['yes', 'no'], description='Hypopituitary:')\n",
        "radio_15 = widgets.RadioButtons(options=['yes', 'no'], description='Psych:')\n",
        "row_4 = HBox([radio_11, radio_12, radio_13, radio_14, radio_15], layout=Layout(margin='20px 0 0 0'))\n",
        "\n",
        "slider_2 = widgets.FloatSlider(min=0, max=53, description='TSH:')\n",
        "slider_3 = widgets.FloatSlider(min=0.05, max=18, description='T3:')\n",
        "slider_4 = widgets.FloatSlider(min=0.2, max=60, description='TT4:')\n",
        "row_5 = HBox([slider_2, slider_3, slider_4], layout=Layout(margin='20px 0 0 0'))\n",
        "\n",
        "slider_5 = widgets.FloatSlider(min=1.7, max=23.3, description='T4U:')\n",
        "slider_6 = widgets.FloatSlider(min=0.2, max=64.2, description='FTI:')\n",
        "row_6 = HBox([slider_5, slider_6], layout=Layout(margin='20px 0 0 0'))\n",
        "\n",
        "gui = VBox([row_1, row_2, row_3, row_4, row_5, row_6], layout=Layout(margin='20px 0 20px 0'))\n",
        "display(gui)\n",
        "button = widgets.Button(description=\"Check my condition\")\n",
        "output = widgets.Output()\n",
        "display(button, output)\n",
        "\n",
        "def on_button_clicked(b):\n",
        "    with output:\n",
        "        output.clear_output()\n",
        "\n",
        "        Age = slider_1.value/100\n",
        "        Sex = 1 if radio_1.value=='male' else 0\n",
        "        On_thyroxine = 1 if radio_2.value=='yes' else 0\n",
        "        Query_on_thyroxine = 1 if radio_3.value=='yes' else 0\n",
        "        On_antithyroid_medication = 1 if radio_4.value=='yes' else 0\n",
        "        Sick = 1 if radio_5.value=='yes' else 0\n",
        "        Pregnant = 1 if radio_6.value=='yes' else 0\n",
        "        Thyroid_surgery = 1 if radio_7.value=='yes' else 0\n",
        "        I131_treatment = 1 if radio_8.value=='yes' else 0\n",
        "        Query_hypothyroid = 1 if radio_9.value=='yes' else 0\n",
        "        Query_hyperthyroid = 1 if radio_10.value=='yes' else 0\n",
        "        Lithium = 1 if radio_11.value=='yes' else 0\n",
        "        Goitre = 1 if radio_12.value=='yes' else 0\n",
        "        Tumor = 1 if radio_13.value=='yes' else 0\n",
        "        Hypopituitary = 1 if radio_1.value=='yes' else 0\n",
        "        Psych = 1 if radio_15.value=='yes' else 0\n",
        "        TSH = slider_2.value/100\n",
        "        T3 = slider_3.value/100\n",
        "        TT4 = slider_4.value/100\n",
        "        T4U = slider_5.value/100\n",
        "        FTI = slider_6.value/100\n",
        "\n",
        "        input_1 = [[Age, Sex, On_thyroxine, Query_on_thyroxine, On_antithyroid_medication, Sick, Pregnant, Thyroid_surgery, I131_treatment, Query_hypothyroid, Query_hyperthyroid, Lithium, Goitre, Tumor, Hypopituitary, Psych, TSH, T3, TT4, T4U, FTI]]\n",
        "        ensemble_model = ensemble_1.fit(x, y)\n",
        "        result = ensemble_model.predict(input_1)\n",
        "        if result == [2]:\n",
        "            print(\"The person is suffering from hyper-thyroidism\")\n",
        "        elif result == [3]:\n",
        "            print(\"The person is suffering from hypo-thyroidism\")\n",
        "        else:\n",
        "            print(\"The person is normal\")\n",
        "\n",
        "button.on_click(on_button_clicked)\n",
        "# 62,0,0,0,0,1,0,0,0,0,0,0,0,0,0,0,1.1,0.8,7.3,7.4,9.8  -> Hyperthyroid\n",
        "# 43,0,0,0,0,0,0,0,0,0,0,0,0,0,0,0,7,0.5,0.29,10.4,0.28  -> Normal\n",
        "# 55,1,0,0,0,0,0,0,0,0,0,0,0,0,0,0,0.208,0.8,7.5,7.7,9.8  -> Hypothyroidism\n"
      ]
    },
    {
      "cell_type": "code",
      "execution_count": null,
      "metadata": {
        "id": "20Ab9NbkyAzN"
      },
      "outputs": [],
      "source": []
    }
  ],
  "metadata": {
    "kernelspec": {
      "display_name": "Python 3",
      "language": "python",
      "name": "python3"
    },
    "language_info": {
      "codemirror_mode": {
        "name": "ipython",
        "version": 3
      },
      "file_extension": ".py",
      "mimetype": "text/x-python",
      "name": "python",
      "nbconvert_exporter": "python",
      "pygments_lexer": "ipython3",
      "version": "3.7.3"
    },
    "colab": {
      "provenance": []
    }
  },
  "nbformat": 4,
  "nbformat_minor": 0
}